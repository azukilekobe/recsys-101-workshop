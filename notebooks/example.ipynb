{
 "cells": [
  {
   "cell_type": "markdown",
   "metadata": {},
   "source": [
    "### Example shows how to use the recommendation library\n",
    "* The first part downloads the dataset, add my ratings and finds similar movies to the ones we want to explore.\n",
    "* The second part generates recommendations for me (with the ratings I provided)\n",
    "* The last part asks for your ratings, and generates recommendations for you. "
   ]
  },
  {
   "cell_type": "code",
   "execution_count": 1,
   "metadata": {
    "collapsed": true
   },
   "outputs": [],
   "source": [
    "import os\n",
    "os.chdir('..')"
   ]
  },
  {
   "cell_type": "code",
   "execution_count": 2,
   "metadata": {
    "collapsed": true
   },
   "outputs": [],
   "source": [
    "# Import all the packages we need to generate recommendations\n",
    "import pandas as pd\n",
    "import wwc_recsys.utils as utils\n",
    "import wwc_recsys.recommenders as recommenders\n",
    "import wwc_recsys.similarity as similarity"
   ]
  },
  {
   "cell_type": "code",
   "execution_count": 3,
   "metadata": {
    "collapsed": true
   },
   "outputs": [],
   "source": [
    "# Get the dataset folder. If the dataset is not downloaded, it downloads it and unzips it\n",
    "# It merges my_ratings_file with the dataset\n",
    "datasets_folder = os.getcwd()+'/data/'\n",
    "dataset_url = 'http://files.grouplens.org/datasets/movielens/ml-latest-small.zip'\n",
    "my_ratings_file = 'ratings_humberto.csv'"
   ]
  },
  {
   "cell_type": "code",
   "execution_count": 4,
   "metadata": {
    "collapsed": true
   },
   "outputs": [],
   "source": [
    "# transform the data to get similar movies \n",
    "[ratings, my_customer_number] = utils.merge_datasets(datasets_folder, dataset_url, my_ratings_file)\n",
    "ratings_matrix = ratings.pivot_table(index='customer', columns='movie', values='rating', fill_value=0)\n",
    "ratings_matrix = ratings_matrix.transpose()\n",
    "movie_list = pd.DataFrame(ratings_matrix.index)"
   ]
  },
  {
   "cell_type": "markdown",
   "metadata": {},
   "source": [
    "## Find similar movies"
   ]
  },
  {
   "cell_type": "code",
   "execution_count": 5,
   "metadata": {
    "collapsed": false
   },
   "outputs": [
    {
     "name": "stdout",
     "output_type": "stream",
     "text": [
      "\n",
      " MOVIES SIMILAR TO:   Juno (2007)\n",
      "                                                   item  similarity\n",
      "4932                                        Juno (2007)          63\n",
      "5877                                 Matrix, The (1999)          48\n",
      "8136                   Shawshank Redemption, The (1994)          46\n",
      "3349                                Forrest Gump (1994)          44\n",
      "7323                                Pulp Fiction (1994)          44\n",
      "5516  Lord of the Rings: The Fellowship of the Ring,...          44\n",
      "3185                                  Fight Club (1999)          43\n",
      "2289                            Dark Knight, The (2008)          43\n",
      "7087  Pirates of the Caribbean: The Curse of the Bla...          42\n",
      "5517  Lord of the Rings: The Return of the King, The...          42\n",
      "                                    item  similarity\n",
      "4932                         Juno (2007)    1.000000\n",
      "3344    Forgetting Sarah Marshall (2008)    0.532086\n",
      "5426         Little Miss Sunshine (2006)    0.516048\n",
      "8777                     Superbad (2007)    0.501451\n",
      "7968  Scott Pilgrim vs. the World (2010)    0.485788\n",
      "3532                 Garden State (2004)    0.482802\n",
      "4539                    In Bruges (2008)    0.482373\n",
      "7444                  Ratatouille (2007)    0.477277\n",
      "1802              Children of Men (2006)    0.465003\n",
      "8333          Slumdog Millionaire (2008)    0.460086\n",
      "\n",
      "\n",
      "\n",
      " MOVIES SIMILAR TO:   Harry Potter and the Chamber of Secrets (2002)\n",
      "                                                   item  similarity\n",
      "3997     Harry Potter and the Chamber of Secrets (2002)          57\n",
      "4004  Harry Potter and the Sorcerer's Stone (a.k.a. ...          45\n",
      "7087  Pirates of the Caribbean: The Curse of the Bla...          44\n",
      "5516  Lord of the Rings: The Fellowship of the Ring,...          43\n",
      "8205                                       Shrek (2001)          42\n",
      "5517  Lord of the Rings: The Return of the King, The...          40\n",
      "8292                            Sixth Sense, The (1999)          40\n",
      "5518      Lord of the Rings: The Two Towers, The (2002)          39\n",
      "5877                                 Matrix, The (1999)          39\n",
      "3349                                Forrest Gump (1994)          38\n",
      "                                                   item  similarity\n",
      "3997     Harry Potter and the Chamber of Secrets (2002)    1.000000\n",
      "4004  Harry Potter and the Sorcerer's Stone (a.k.a. ...    0.633513\n",
      "4003    Harry Potter and the Prisoner of Azkaban (2004)    0.604833\n",
      "4000         Harry Potter and the Goblet of Fire (2005)    0.502368\n",
      "4002   Harry Potter and the Order of the Phoenix (2007)    0.498685\n",
      "4001      Harry Potter and the Half-Blood Prince (2009)    0.412753\n",
      "7490                                  Red Dragon (2002)    0.403412\n",
      "6185                                Moulin Rouge (2001)    0.401913\n",
      "8227                                       Signs (2002)    0.401019\n",
      "7087  Pirates of the Caribbean: The Curse of the Bla...    0.397977\n",
      "\n",
      "\n",
      "\n",
      " MOVIES SIMILAR TO:   Django Unchained (2012)\n",
      "                                                   item  similarity\n",
      "2594                            Django Unchained (2012)          49\n",
      "5877                                 Matrix, The (1999)          38\n",
      "7323                                Pulp Fiction (1994)          36\n",
      "4585                                   Inception (2010)          36\n",
      "3185                                  Fight Club (1999)          36\n",
      "8136                   Shawshank Redemption, The (1994)          36\n",
      "2289                            Dark Knight, The (2008)          36\n",
      "5517  Lord of the Rings: The Return of the King, The...          34\n",
      "5516  Lord of the Rings: The Fellowship of the Ring,...          33\n",
      "3654                                   Gladiator (2000)          32\n",
      "                                  item  similarity\n",
      "2594           Django Unchained (2012)    1.000000\n",
      "2288     Dark Knight Rises, The (2012)    0.655399\n",
      "4615       Inglourious Basterds (2009)    0.557915\n",
      "10132  Wolf of Wall Street, The (2013)    0.553335\n",
      "4660               Interstellar (2014)    0.529483\n",
      "6505               Nightcrawler (2014)    0.510218\n",
      "2728                      Drive (2011)    0.508856\n",
      "10189            Wreck-It Ralph (2012)    0.503194\n",
      "8211             Shutter Island (2010)    0.490090\n",
      "2467              Departed, The (2006)    0.468637\n",
      "\n",
      "\n"
     ]
    }
   ],
   "source": [
    "# movie_list[movie_list['movie'].str.contains(\"Mystic River\")]\n",
    "movie_list = ['Juno (2007)', 'Harry Potter and the Chamber of Secrets (2002)', 'Django Unchained (2012)']\n",
    "for movie_test in movie_list:\n",
    "    print('\\n MOVIES SIMILAR TO:  ', movie_test)\n",
    "    print(similarity.compute_nearest_neighbours(movie_test, ratings_matrix, 'intersection')[0:10])\n",
    "    print(similarity.compute_nearest_neighbours(movie_test, ratings_matrix, 'pearson')[0:10])\n",
    "    print('\\n')"
   ]
  },
  {
   "cell_type": "markdown",
   "metadata": {},
   "source": [
    "## Generate recommendations "
   ]
  },
  {
   "cell_type": "code",
   "execution_count": 6,
   "metadata": {
    "collapsed": false
   },
   "outputs": [
    {
     "data": {
      "text/html": [
       "<div>\n",
       "<table border=\"1\" class=\"dataframe\">\n",
       "  <thead>\n",
       "    <tr style=\"text-align: right;\">\n",
       "      <th></th>\n",
       "      <th>rating</th>\n",
       "      <th>movie</th>\n",
       "    </tr>\n",
       "  </thead>\n",
       "  <tbody>\n",
       "    <tr>\n",
       "      <th>0</th>\n",
       "      <td>5</td>\n",
       "      <td>Wreck-It Ralph (2012)</td>\n",
       "    </tr>\n",
       "    <tr>\n",
       "      <th>1</th>\n",
       "      <td>5</td>\n",
       "      <td>White Noise (2005)</td>\n",
       "    </tr>\n",
       "    <tr>\n",
       "      <th>2</th>\n",
       "      <td>5</td>\n",
       "      <td>White Material (2009)</td>\n",
       "    </tr>\n",
       "    <tr>\n",
       "      <th>3</th>\n",
       "      <td>5</td>\n",
       "      <td>Whatever Happened to Aunt Alice? (1969)</td>\n",
       "    </tr>\n",
       "    <tr>\n",
       "      <th>4</th>\n",
       "      <td>5</td>\n",
       "      <td>Watch, The (2012)</td>\n",
       "    </tr>\n",
       "    <tr>\n",
       "      <th>5</th>\n",
       "      <td>5</td>\n",
       "      <td>Waltz with Bashir (Vals im Bashir) (2008)</td>\n",
       "    </tr>\n",
       "    <tr>\n",
       "      <th>6</th>\n",
       "      <td>5</td>\n",
       "      <td>Vanishing on 7th Street (2010)</td>\n",
       "    </tr>\n",
       "    <tr>\n",
       "      <th>7</th>\n",
       "      <td>5</td>\n",
       "      <td>V/H/S/2 (2013)</td>\n",
       "    </tr>\n",
       "    <tr>\n",
       "      <th>8</th>\n",
       "      <td>5</td>\n",
       "      <td>V/H/S (2012)</td>\n",
       "    </tr>\n",
       "    <tr>\n",
       "      <th>9</th>\n",
       "      <td>5</td>\n",
       "      <td>Undertow (2004)</td>\n",
       "    </tr>\n",
       "  </tbody>\n",
       "</table>\n",
       "</div>"
      ],
      "text/plain": [
       "   rating                                      movie\n",
       "0       5                      Wreck-It Ralph (2012)\n",
       "1       5                         White Noise (2005)\n",
       "2       5                      White Material (2009)\n",
       "3       5    Whatever Happened to Aunt Alice? (1969)\n",
       "4       5                          Watch, The (2012)\n",
       "5       5  Waltz with Bashir (Vals im Bashir) (2008)\n",
       "6       5             Vanishing on 7th Street (2010)\n",
       "7       5                             V/H/S/2 (2013)\n",
       "8       5                               V/H/S (2012)\n",
       "9       5                            Undertow (2004)"
      ]
     },
     "execution_count": 6,
     "metadata": {},
     "output_type": "execute_result"
    }
   ],
   "source": [
    "# get recommendations for a single user  (with default parameters)\n",
    "recommendations = recommenders.recommend_iknn(ratings, my_customer_number, K=50, similarity_metric='pearson')\n",
    "recommendations"
   ]
  },
  {
   "cell_type": "code",
   "execution_count": 7,
   "metadata": {
    "collapsed": false
   },
   "outputs": [
    {
     "data": {
      "text/html": [
       "<div>\n",
       "<table border=\"1\" class=\"dataframe\">\n",
       "  <thead>\n",
       "    <tr style=\"text-align: right;\">\n",
       "      <th></th>\n",
       "      <th>rating</th>\n",
       "      <th>movie</th>\n",
       "    </tr>\n",
       "  </thead>\n",
       "  <tbody>\n",
       "    <tr>\n",
       "      <th>0</th>\n",
       "      <td>5</td>\n",
       "      <td>Submarine (2010)</td>\n",
       "    </tr>\n",
       "    <tr>\n",
       "      <th>1</th>\n",
       "      <td>5</td>\n",
       "      <td>Prisoners (2013)</td>\n",
       "    </tr>\n",
       "    <tr>\n",
       "      <th>2</th>\n",
       "      <td>5</td>\n",
       "      <td>Palo Alto (2013)</td>\n",
       "    </tr>\n",
       "    <tr>\n",
       "      <th>3</th>\n",
       "      <td>5</td>\n",
       "      <td>Moonrise Kingdom (2012)</td>\n",
       "    </tr>\n",
       "    <tr>\n",
       "      <th>4</th>\n",
       "      <td>5</td>\n",
       "      <td>Love and Death (1975)</td>\n",
       "    </tr>\n",
       "    <tr>\n",
       "      <th>5</th>\n",
       "      <td>5</td>\n",
       "      <td>Lolita (1997)</td>\n",
       "    </tr>\n",
       "    <tr>\n",
       "      <th>6</th>\n",
       "      <td>5</td>\n",
       "      <td>Lolita (1962)</td>\n",
       "    </tr>\n",
       "    <tr>\n",
       "      <th>7</th>\n",
       "      <td>5</td>\n",
       "      <td>Juno (2007)</td>\n",
       "    </tr>\n",
       "    <tr>\n",
       "      <th>8</th>\n",
       "      <td>5</td>\n",
       "      <td>He Loves Me... He Loves Me Not (À la folie... ...</td>\n",
       "    </tr>\n",
       "    <tr>\n",
       "      <th>9</th>\n",
       "      <td>5</td>\n",
       "      <td>Good, the Bad and the Ugly, The (Buono, il bru...</td>\n",
       "    </tr>\n",
       "  </tbody>\n",
       "</table>\n",
       "</div>"
      ],
      "text/plain": [
       "   rating                                              movie\n",
       "0       5                                   Submarine (2010)\n",
       "1       5                                   Prisoners (2013)\n",
       "2       5                                   Palo Alto (2013)\n",
       "3       5                            Moonrise Kingdom (2012)\n",
       "4       5                              Love and Death (1975)\n",
       "5       5                                      Lolita (1997)\n",
       "6       5                                      Lolita (1962)\n",
       "7       5                                        Juno (2007)\n",
       "8       5  He Loves Me... He Loves Me Not (À la folie... ...\n",
       "9       5  Good, the Bad and the Ugly, The (Buono, il bru..."
      ]
     },
     "execution_count": 7,
     "metadata": {},
     "output_type": "execute_result"
    }
   ],
   "source": [
    "# get recommendations for a single user  (with default parameters)\n",
    "recommendations = recommenders.recommend_uknn(ratings, my_customer_number, K=4, similarity_metric='pearson')\n",
    "recommendations"
   ]
  },
  {
   "cell_type": "markdown",
   "metadata": {},
   "source": [
    "---\n",
    "## Recommendations for a new ratings file (your ratings)\n",
    "* For this you need to add all ratings of your own "
   ]
  },
  {
   "cell_type": "code",
   "execution_count": null,
   "metadata": {
    "collapsed": false
   },
   "outputs": [],
   "source": [
    "my_ratings_file = 'ratings_humberto.csv'\n",
    "[ratings, my_customer_number] = utils.merge_datasets(datasets_folder, dataset_url, my_ratings_file)\n",
    "recommenders.recommend_iknn(ratings, my_customer_number, K=50, similarity_metric='pearson')"
   ]
  }
 ],
 "metadata": {
  "kernelspec": {
   "display_name": "Python 3",
   "language": "python",
   "name": "python3"
  },
  "language_info": {
   "codemirror_mode": {
    "name": "ipython",
    "version": 3
   },
   "file_extension": ".py",
   "mimetype": "text/x-python",
   "name": "python",
   "nbconvert_exporter": "python",
   "pygments_lexer": "ipython3",
   "version": "3.5.1"
  }
 },
 "nbformat": 4,
 "nbformat_minor": 0
}
