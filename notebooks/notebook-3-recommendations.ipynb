{
 "cells": [
  {
   "cell_type": "markdown",
   "metadata": {
    "deletable": true,
    "editable": true
   },
   "source": [
    "### Using the recommendation library"
   ]
  },
  {
   "cell_type": "code",
   "execution_count": 1,
   "metadata": {
    "collapsed": true,
    "deletable": true,
    "editable": true
   },
   "outputs": [],
   "source": [
    "import os\n",
    "os.chdir('..')"
   ]
  },
  {
   "cell_type": "code",
   "execution_count": 2,
   "metadata": {
    "collapsed": true,
    "deletable": true,
    "editable": true
   },
   "outputs": [],
   "source": [
    "# Import all the packages we need to generate recommendations\n",
    "import numpy as np\n",
    "import pandas as pd\n",
    "import src.utils as utils\n",
    "import src.recommenders as recommenders\n",
    "import src.similarity as similarity\n",
    "\n",
    "# Enable logging on Jupyter notebook\n",
    "import logging\n",
    "logger = logging.getLogger()\n",
    "logger.setLevel(logging.DEBUG)"
   ]
  },
  {
   "cell_type": "code",
   "execution_count": 3,
   "metadata": {
    "collapsed": true,
    "deletable": true,
    "editable": true
   },
   "outputs": [],
   "source": [
    "# imports necesary for plotting\n",
    "import matplotlib\n",
    "import matplotlib.pyplot as plt\n",
    "%matplotlib inline  "
   ]
  },
  {
   "cell_type": "code",
   "execution_count": 4,
   "metadata": {
    "collapsed": false,
    "deletable": true,
    "editable": true
   },
   "outputs": [
    {
     "name": "stderr",
     "output_type": "stream",
     "text": [
      "INFO:root:loaded 44 personal ratings\n",
      "INFO:root:loaded 9125 movies\n",
      "INFO:root:loaded 100048 ratings in total\n"
     ]
    }
   ],
   "source": [
    "# loads the dataset (assumes the data is downloaded)\n",
    "dataset_folder = os.getcwd()+'/data/'\n",
    "my_ratings_file = dataset_folder+'ratings-imdb.csv'\n",
    "dataset_folder_ready = dataset_folder+ '/ml-latest-small'\n",
    "[ratings, my_customer_number] = utils.merge_datasets(dataset_folder_ready, my_ratings_file)"
   ]
  },
  {
   "cell_type": "code",
   "execution_count": 5,
   "metadata": {
    "collapsed": true,
    "deletable": true,
    "editable": true
   },
   "outputs": [],
   "source": [
    "# the data is stored in a long pandas dataframe\n",
    "# we need to pivot the data to create a [user x movie] matrix\n",
    "ratings_matrix = ratings.pivot_table(index='customer', columns='movie', values='rating', fill_value=0)\n",
    "ratings_matrix = ratings_matrix.transpose()"
   ]
  },
  {
   "cell_type": "markdown",
   "metadata": {
    "deletable": true,
    "editable": true
   },
   "source": [
    "#### Understanding Movie Similarity\n",
    "1. Try with different movies \n",
    "2. Try with different types of **similarity metrics** (look in /src/similarity.py)\n",
    "3. Which **similarity metric** works the best? "
   ]
  },
  {
   "cell_type": "code",
   "execution_count": null,
   "metadata": {
    "collapsed": false,
    "deletable": true,
    "editable": true
   },
   "outputs": [],
   "source": [
    "# find similar movies \n",
    "# try with different movie titles and see what happens \n",
    "movie_title = 'Star Wars: Episode VI - Return of the Jedi (1983)'\n",
    "similarity_type = \"intersection\"\n",
    "logger.info('top-10 movies similar to %s, using %s similarity', movie_title, similarity_type)\n",
    "print(similarity.compute_nearest_neighbours(movie_title, ratings_matrix, similarity_type)[0:10])"
   ]
  },
  {
   "cell_type": "code",
   "execution_count": null,
   "metadata": {
    "collapsed": false,
    "deletable": true,
    "editable": true
   },
   "outputs": [],
   "source": [
    "# find similar movies \n",
    "# try with different movie titles and see what happens \n",
    "movie_title = 'All About My Mother (Todo sobre mi madre) (1999)'\n",
    "similarity_type = \"pearson\"\n",
    "logger.info('top-10 movies similar to: %s, using %s similarity', movie_title, similarity_type)\n",
    "print(similarity.compute_nearest_neighbours(movie_title, ratings_matrix, similarity_type)[0:10])"
   ]
  },
  {
   "cell_type": "markdown",
   "metadata": {
    "deletable": true,
    "editable": true
   },
   "source": [
    "#### Creating recommendations for your personal ratings\n",
    "1. Try with different **similarity metrics** (look in /src/similarity.py)\n",
    "2. Try with different values of **K** (K is the number of neigbhours to consider when generating the recommendations)\n",
    "3. Which combination of **K** and **number of metrics** works better?, discuss it with others."
   ]
  },
  {
   "cell_type": "code",
   "execution_count": 6,
   "metadata": {
    "collapsed": false,
    "deletable": true,
    "editable": true
   },
   "outputs": [
    {
     "name": "stderr",
     "output_type": "stream",
     "text": [
      "INFO:root:computed nearest neighbours using cosine\n",
      "/Users/hcorona/github/recsys-101-workshop/src/recommenders.py:115: RuntimeWarning: invalid value encountered in double_scalars\n",
      "  movie, recommendations in recommendations.items()]\n"
     ]
    },
    {
     "data": {
      "text/html": [
       "<div>\n",
       "<table border=\"1\" class=\"dataframe\">\n",
       "  <thead>\n",
       "    <tr style=\"text-align: right;\">\n",
       "      <th></th>\n",
       "      <th>rating</th>\n",
       "      <th>movie</th>\n",
       "    </tr>\n",
       "  </thead>\n",
       "  <tbody>\n",
       "    <tr>\n",
       "      <th>0</th>\n",
       "      <td>NaN</td>\n",
       "      <td>Fireproof (2008)</td>\n",
       "    </tr>\n",
       "    <tr>\n",
       "      <th>1</th>\n",
       "      <td>4.500000</td>\n",
       "      <td>Working Girl (1988)</td>\n",
       "    </tr>\n",
       "    <tr>\n",
       "      <th>2</th>\n",
       "      <td>4.414060</td>\n",
       "      <td>Howl's Moving Castle (Hauru no ugoku shiro) (2...</td>\n",
       "    </tr>\n",
       "    <tr>\n",
       "      <th>3</th>\n",
       "      <td>4.413406</td>\n",
       "      <td>12 Angry Men (1957)</td>\n",
       "    </tr>\n",
       "    <tr>\n",
       "      <th>4</th>\n",
       "      <td>4.300721</td>\n",
       "      <td>Léon: The Professional (a.k.a. The Professiona...</td>\n",
       "    </tr>\n",
       "    <tr>\n",
       "      <th>5</th>\n",
       "      <td>4.253711</td>\n",
       "      <td>Raging Bull (1980)</td>\n",
       "    </tr>\n",
       "    <tr>\n",
       "      <th>6</th>\n",
       "      <td>4.192425</td>\n",
       "      <td>Memento (2000)</td>\n",
       "    </tr>\n",
       "    <tr>\n",
       "      <th>7</th>\n",
       "      <td>4.180205</td>\n",
       "      <td>Once (2006)</td>\n",
       "    </tr>\n",
       "    <tr>\n",
       "      <th>8</th>\n",
       "      <td>4.165266</td>\n",
       "      <td>Dark Knight, The (2008)</td>\n",
       "    </tr>\n",
       "    <tr>\n",
       "      <th>9</th>\n",
       "      <td>4.162363</td>\n",
       "      <td>The Hateful Eight (2015)</td>\n",
       "    </tr>\n",
       "  </tbody>\n",
       "</table>\n",
       "</div>"
      ],
      "text/plain": [
       "     rating                                              movie\n",
       "0       NaN                                   Fireproof (2008)\n",
       "1  4.500000                                Working Girl (1988)\n",
       "2  4.414060  Howl's Moving Castle (Hauru no ugoku shiro) (2...\n",
       "3  4.413406                                12 Angry Men (1957)\n",
       "4  4.300721  Léon: The Professional (a.k.a. The Professiona...\n",
       "5  4.253711                                 Raging Bull (1980)\n",
       "6  4.192425                                     Memento (2000)\n",
       "7  4.180205                                        Once (2006)\n",
       "8  4.165266                            Dark Knight, The (2008)\n",
       "9  4.162363                           The Hateful Eight (2015)"
      ]
     },
     "execution_count": 6,
     "metadata": {},
     "output_type": "execute_result"
    }
   ],
   "source": [
    "# get recommendations for a single user\n",
    "recommendations = recommenders.recommend_uknn(ratings, my_customer_number, K=200, similarity_metric='cosine', N=10)\n",
    "recommendations"
   ]
  },
  {
   "cell_type": "code",
   "execution_count": 7,
   "metadata": {
    "collapsed": false,
    "deletable": true,
    "editable": true
   },
   "outputs": [
    {
     "data": {
      "text/html": [
       "<div>\n",
       "<table border=\"1\" class=\"dataframe\">\n",
       "  <thead>\n",
       "    <tr style=\"text-align: right;\">\n",
       "      <th></th>\n",
       "      <th>rating</th>\n",
       "      <th>movie</th>\n",
       "    </tr>\n",
       "  </thead>\n",
       "  <tbody>\n",
       "    <tr>\n",
       "      <th>0</th>\n",
       "      <td>4.747497</td>\n",
       "      <td>Blind Side, The  (2009)</td>\n",
       "    </tr>\n",
       "    <tr>\n",
       "      <th>1</th>\n",
       "      <td>4.706659</td>\n",
       "      <td>Harry Potter and the Half-Blood Prince (2009)</td>\n",
       "    </tr>\n",
       "    <tr>\n",
       "      <th>2</th>\n",
       "      <td>4.682608</td>\n",
       "      <td>Grand Budapest Hotel, The (2014)</td>\n",
       "    </tr>\n",
       "    <tr>\n",
       "      <th>3</th>\n",
       "      <td>4.671003</td>\n",
       "      <td>Ratatouille (2007)</td>\n",
       "    </tr>\n",
       "    <tr>\n",
       "      <th>4</th>\n",
       "      <td>4.670487</td>\n",
       "      <td>Star Trek Into Darkness (2013)</td>\n",
       "    </tr>\n",
       "    <tr>\n",
       "      <th>5</th>\n",
       "      <td>4.663013</td>\n",
       "      <td>Captain America: The First Avenger (2011)</td>\n",
       "    </tr>\n",
       "    <tr>\n",
       "      <th>6</th>\n",
       "      <td>4.662324</td>\n",
       "      <td>Mad Max: Fury Road (2015)</td>\n",
       "    </tr>\n",
       "    <tr>\n",
       "      <th>7</th>\n",
       "      <td>4.641638</td>\n",
       "      <td>Dallas Buyers Club (2013)</td>\n",
       "    </tr>\n",
       "    <tr>\n",
       "      <th>8</th>\n",
       "      <td>4.583980</td>\n",
       "      <td>Hugo (2011)</td>\n",
       "    </tr>\n",
       "    <tr>\n",
       "      <th>9</th>\n",
       "      <td>4.570574</td>\n",
       "      <td>Harry Potter and the Deathly Hallows: Part 1 (...</td>\n",
       "    </tr>\n",
       "  </tbody>\n",
       "</table>\n",
       "</div>"
      ],
      "text/plain": [
       "     rating                                              movie\n",
       "0  4.747497                            Blind Side, The  (2009)\n",
       "1  4.706659      Harry Potter and the Half-Blood Prince (2009)\n",
       "2  4.682608                   Grand Budapest Hotel, The (2014)\n",
       "3  4.671003                                 Ratatouille (2007)\n",
       "4  4.670487                     Star Trek Into Darkness (2013)\n",
       "5  4.663013          Captain America: The First Avenger (2011)\n",
       "6  4.662324                          Mad Max: Fury Road (2015)\n",
       "7  4.641638                          Dallas Buyers Club (2013)\n",
       "8  4.583980                                        Hugo (2011)\n",
       "9  4.570574  Harry Potter and the Deathly Hallows: Part 1 (..."
      ]
     },
     "execution_count": 7,
     "metadata": {},
     "output_type": "execute_result"
    }
   ],
   "source": [
    "# get recommendations for a single user\n",
    "recommendations = recommenders.recommend_iknn(ratings, my_customer_number, K=100, similarity_metric='cosine')\n",
    "recommendations"
   ]
  },
  {
   "cell_type": "code",
   "execution_count": null,
   "metadata": {
    "collapsed": true,
    "deletable": true,
    "editable": true
   },
   "outputs": [],
   "source": []
  }
 ],
 "metadata": {
  "kernelspec": {
   "display_name": "Python 3",
   "language": "python",
   "name": "python3"
  },
  "language_info": {
   "codemirror_mode": {
    "name": "ipython",
    "version": 3
   },
   "file_extension": ".py",
   "mimetype": "text/x-python",
   "name": "python",
   "nbconvert_exporter": "python",
   "pygments_lexer": "ipython3",
   "version": "3.5.3rc1"
  }
 },
 "nbformat": 4,
 "nbformat_minor": 0
}
