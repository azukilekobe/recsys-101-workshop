{
 "cells": [
  {
   "cell_type": "markdown",
   "metadata": {
    "deletable": true,
    "editable": true
   },
   "source": [
    "### Using the recommendation library"
   ]
  },
  {
   "cell_type": "code",
   "execution_count": 1,
   "metadata": {
    "collapsed": true,
    "deletable": true,
    "editable": true
   },
   "outputs": [],
   "source": [
    "import os\n",
    "os.chdir('..')"
   ]
  },
  {
   "cell_type": "code",
   "execution_count": 2,
   "metadata": {
    "collapsed": true,
    "deletable": true,
    "editable": true
   },
   "outputs": [],
   "source": [
    "# Import all the packages we need to generate recommendations\n",
    "import numpy as np\n",
    "import pandas as pd\n",
    "import src.utils as utils\n",
    "import src.recommenders as recommenders\n",
    "import src.similarity as similarity\n",
    "\n",
    "# Enable logging on Jupyter notebook\n",
    "import logging\n",
    "logger = logging.getLogger()\n",
    "logger.setLevel(logging.DEBUG)"
   ]
  },
  {
   "cell_type": "code",
   "execution_count": 3,
   "metadata": {
    "collapsed": true,
    "deletable": true,
    "editable": true
   },
   "outputs": [],
   "source": [
    "# imports necesary for plotting\n",
    "import matplotlib\n",
    "import matplotlib.pyplot as plt\n",
    "%matplotlib inline  "
   ]
  },
  {
   "cell_type": "code",
   "execution_count": 4,
   "metadata": {
    "collapsed": false,
    "deletable": true,
    "editable": true
   },
   "outputs": [
    {
     "name": "stderr",
     "output_type": "stream",
     "text": [
      "INFO:root:loaded 12 personal ratings\n",
      "INFO:root:loaded 9125 movies\n",
      "INFO:root:loaded 100016 ratings in total\n"
     ]
    }
   ],
   "source": [
    "# loads the dataset (assumes the data is downloaded)\n",
    "dataset_folder = os.getcwd()+'/data/'\n",
    "my_ratings_file = dataset_folder+'/ratings_humberto.csv'\n",
    "dataset_folder_ready = dataset_folder+ '/ml-latest-small'\n",
    "[ratings, my_customer_number] = utils.merge_datasets(dataset_folder_ready, my_ratings_file)"
   ]
  },
  {
   "cell_type": "code",
   "execution_count": 5,
   "metadata": {
    "collapsed": true,
    "deletable": true,
    "editable": true
   },
   "outputs": [],
   "source": [
    "# the data is stored in a long pandas dataframe\n",
    "# we need to pivot the data to create a [user x movie] matrix\n",
    "ratings_matrix = ratings.pivot_table(index='customer', columns='movie', values='rating', fill_value=0)\n",
    "ratings_matrix = ratings_matrix.transpose()"
   ]
  },
  {
   "cell_type": "markdown",
   "metadata": {},
   "source": [
    "#### Understanding Movie Similarity\n",
    "1. Try with different movies \n",
    "2. Try with different types of **similarity metrics** (look in /src/similarity.py)\n",
    "3. Which **similarity metric** works the best? "
   ]
  },
  {
   "cell_type": "code",
   "execution_count": 6,
   "metadata": {
    "collapsed": false
   },
   "outputs": [
    {
     "name": "stderr",
     "output_type": "stream",
     "text": [
      "INFO:root:top-10 movies similar to Star Wars: Episode VI - Return of the Jedi (1983), using intersection similarity\n"
     ]
    },
    {
     "name": "stdout",
     "output_type": "stream",
     "text": [
      "                                                   item  similarity\n",
      "7490  Star Wars: Episode VI - Return of the Jedi (1983)         217\n",
      "7488          Star Wars: Episode IV - A New Hope (1977)         187\n",
      "7489  Star Wars: Episode V - The Empire Strikes Back...         169\n",
      "2933                                Forrest Gump (1994)         148\n",
      "5102                                 Matrix, The (1999)         144\n",
      "6460  Raiders of the Lost Ark (Indiana Jones and the...         139\n",
      "657                           Back to the Future (1985)         138\n",
      "4307                               Jurassic Park (1993)         131\n",
      "5164                   Men in Black (a.k.a. MIB) (1997)         127\n",
      "8248                                   Toy Story (1995)         127\n"
     ]
    }
   ],
   "source": [
    "# find similar movies \n",
    "# try with different movie titles and see what happens \n",
    "movie_title = 'Star Wars: Episode VI - Return of the Jedi (1983)'\n",
    "similarity_type = \"intersection\"\n",
    "logger.info('top-10 movies similar to %s, using %s similarity', movie_title, similarity_type)\n",
    "print(similarity.compute_nearest_neighbours(movie_title, ratings_matrix, similarity_type)[0:10])"
   ]
  },
  {
   "cell_type": "markdown",
   "metadata": {},
   "source": [
    "#### Creating recommendations for your personal ratings\n",
    "1. Try with different **similarity metrics** (look in /src/similarity.py)\n",
    "2. Try with different values of **K** (K is the number of neigbhours to consider when generating the recommendations)\n",
    "3. Which combination of **K** and **number of metrics** works better?, discuss it with others."
   ]
  },
  {
   "cell_type": "code",
   "execution_count": 7,
   "metadata": {
    "collapsed": false
   },
   "outputs": [
    {
     "data": {
      "text/html": [
       "<div>\n",
       "<table border=\"1\" class=\"dataframe\">\n",
       "  <thead>\n",
       "    <tr style=\"text-align: right;\">\n",
       "      <th></th>\n",
       "      <th>rating</th>\n",
       "      <th>movie</th>\n",
       "    </tr>\n",
       "  </thead>\n",
       "  <tbody>\n",
       "    <tr>\n",
       "      <th>0</th>\n",
       "      <td>5.0</td>\n",
       "      <td>We Don't Live Here Anymore (2004)</td>\n",
       "    </tr>\n",
       "    <tr>\n",
       "      <th>1</th>\n",
       "      <td>5.0</td>\n",
       "      <td>The Skeleton Twins (2014)</td>\n",
       "    </tr>\n",
       "    <tr>\n",
       "      <th>2</th>\n",
       "      <td>5.0</td>\n",
       "      <td>Keep the River on Your Right: A Modern Canniba...</td>\n",
       "    </tr>\n",
       "    <tr>\n",
       "      <th>3</th>\n",
       "      <td>5.0</td>\n",
       "      <td>Dragon Ball Z: Battle of Gods (2013)</td>\n",
       "    </tr>\n",
       "    <tr>\n",
       "      <th>4</th>\n",
       "      <td>5.0</td>\n",
       "      <td>À nous la liberté (Freedom for Us) (1931)</td>\n",
       "    </tr>\n",
       "    <tr>\n",
       "      <th>5</th>\n",
       "      <td>5.0</td>\n",
       "      <td>Wild Angels, The (1966)</td>\n",
       "    </tr>\n",
       "    <tr>\n",
       "      <th>6</th>\n",
       "      <td>5.0</td>\n",
       "      <td>Whiplash (2014)</td>\n",
       "    </tr>\n",
       "    <tr>\n",
       "      <th>7</th>\n",
       "      <td>5.0</td>\n",
       "      <td>Where the Wild Things Are (2009)</td>\n",
       "    </tr>\n",
       "    <tr>\n",
       "      <th>8</th>\n",
       "      <td>5.0</td>\n",
       "      <td>Wedding Banquet, The (Xi yan) (1993)</td>\n",
       "    </tr>\n",
       "    <tr>\n",
       "      <th>9</th>\n",
       "      <td>5.0</td>\n",
       "      <td>Way, Way Back, The (2013)</td>\n",
       "    </tr>\n",
       "  </tbody>\n",
       "</table>\n",
       "</div>"
      ],
      "text/plain": [
       "   rating                                              movie\n",
       "0     5.0                  We Don't Live Here Anymore (2004)\n",
       "1     5.0                          The Skeleton Twins (2014)\n",
       "2     5.0  Keep the River on Your Right: A Modern Canniba...\n",
       "3     5.0               Dragon Ball Z: Battle of Gods (2013)\n",
       "4     5.0          À nous la liberté (Freedom for Us) (1931)\n",
       "5     5.0                            Wild Angels, The (1966)\n",
       "6     5.0                                    Whiplash (2014)\n",
       "7     5.0                   Where the Wild Things Are (2009)\n",
       "8     5.0               Wedding Banquet, The (Xi yan) (1993)\n",
       "9     5.0                          Way, Way Back, The (2013)"
      ]
     },
     "execution_count": 7,
     "metadata": {},
     "output_type": "execute_result"
    }
   ],
   "source": [
    "# get recommendations for a single user\n",
    "recommendations = recommenders.recommend_iknn(ratings, my_customer_number, K=50, similarity_metric='pearson')\n",
    "recommendations"
   ]
  }
 ],
 "metadata": {
  "kernelspec": {
   "display_name": "Python 3",
   "language": "python",
   "name": "python3"
  },
  "language_info": {
   "codemirror_mode": {
    "name": "ipython",
    "version": 3
   },
   "file_extension": ".py",
   "mimetype": "text/x-python",
   "name": "python",
   "nbconvert_exporter": "python",
   "pygments_lexer": "ipython3",
   "version": "3.5.3rc1"
  }
 },
 "nbformat": 4,
 "nbformat_minor": 0
}
