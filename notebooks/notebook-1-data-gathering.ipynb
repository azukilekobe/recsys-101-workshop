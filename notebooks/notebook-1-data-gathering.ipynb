{
 "cells": [
  {
   "cell_type": "markdown",
   "metadata": {
    "deletable": true,
    "editable": true
   },
   "source": [
    "# Notebook: data gathering: Downloads and reads the data"
   ]
  },
  {
   "cell_type": "code",
   "execution_count": 1,
   "metadata": {
    "collapsed": true,
    "deletable": true,
    "editable": true
   },
   "outputs": [],
   "source": [
    "import os\n",
    "os.chdir('..')"
   ]
  },
  {
   "cell_type": "code",
   "execution_count": 2,
   "metadata": {
    "collapsed": false,
    "deletable": true,
    "editable": true
   },
   "outputs": [],
   "source": [
    "# Import all the packages we need to generate recommendations\n",
    "import pandas as pd\n",
    "import src.utils as utils\n",
    "import src.recommenders as recommenders\n",
    "import src.similarity as similarity\n",
    "\n",
    "# Enable logging on Jupyter notebook\n",
    "import logging\n",
    "logger = logging.getLogger()\n",
    "logger.setLevel(logging.DEBUG)"
   ]
  },
  {
   "cell_type": "markdown",
   "metadata": {
    "deletable": true,
    "editable": true
   },
   "source": [
    "#### Download and load the data "
   ]
  },
  {
   "cell_type": "code",
   "execution_count": 3,
   "metadata": {
    "collapsed": false,
    "deletable": true,
    "editable": true
   },
   "outputs": [
    {
     "name": "stderr",
     "output_type": "stream",
     "text": [
      "INFO:root:dataset was already downloaded\n",
      "INFO:root:dataset stored in: /Users/hcorona/github/recsys-101-workshop/data/ml-latest-small\n"
     ]
    }
   ],
   "source": [
    "# downloads and unzips dataset from MovieLens \n",
    "#'http://files.grouplens.org/datasets/movielens/ml-latest-small.zip'\n",
    "dataset_folder = os.getcwd()+'/data/'\n",
    "dataset_folder_ready = utils.load_dataset(dataset_folder)"
   ]
  },
  {
   "cell_type": "code",
   "execution_count": 4,
   "metadata": {
    "collapsed": false,
    "deletable": true,
    "editable": true
   },
   "outputs": [
    {
     "name": "stderr",
     "output_type": "stream",
     "text": [
      "INFO:root:loaded 12 personal ratings\n",
      "INFO:root:loaded 9125 movies\n",
      "INFO:root:loaded 100016 ratings in total\n"
     ]
    }
   ],
   "source": [
    "# reads personal ratings\n",
    "# adds personal ratings to original dataset ratings file. \n",
    "my_ratings_file = dataset_folder+'/ratings_humberto.csv'\n",
    "[ratings, my_customer_number] = utils.merge_datasets(dataset_folder_ready, my_ratings_file)"
   ]
  },
  {
   "cell_type": "markdown",
   "metadata": {
    "deletable": true,
    "editable": true
   },
   "source": [
    "#### Understand the data "
   ]
  },
  {
   "cell_type": "code",
   "execution_count": 5,
   "metadata": {
    "collapsed": true,
    "deletable": true,
    "editable": true
   },
   "outputs": [],
   "source": [
    "# the data is stored in a long pandas dataframe\n",
    "# we need to pivot the data to create a [user x movie] matrix\n",
    "ratings_matrix = ratings.pivot_table(index='customer', columns='movie', values='rating', fill_value=0)\n",
    "ratings_matrix = ratings_matrix.transpose()"
   ]
  },
  {
   "cell_type": "code",
   "execution_count": 6,
   "metadata": {
    "collapsed": false,
    "deletable": true,
    "editable": true
   },
   "outputs": [
    {
     "data": {
      "text/html": [
       "<div>\n",
       "<table border=\"1\" class=\"dataframe\">\n",
       "  <thead>\n",
       "    <tr style=\"text-align: right;\">\n",
       "      <th></th>\n",
       "      <th>customer</th>\n",
       "      <th>movie</th>\n",
       "      <th>rating</th>\n",
       "    </tr>\n",
       "  </thead>\n",
       "  <tbody>\n",
       "    <tr>\n",
       "      <th>17858</th>\n",
       "      <td>672</td>\n",
       "      <td>Annie Hall (1977)</td>\n",
       "      <td>3.0</td>\n",
       "    </tr>\n",
       "    <tr>\n",
       "      <th>53920</th>\n",
       "      <td>672</td>\n",
       "      <td>Beach, The (2000)</td>\n",
       "      <td>3.0</td>\n",
       "    </tr>\n",
       "    <tr>\n",
       "      <th>75779</th>\n",
       "      <td>672</td>\n",
       "      <td>Sea Inside, The (Mar adentro) (2004)</td>\n",
       "      <td>4.5</td>\n",
       "    </tr>\n",
       "    <tr>\n",
       "      <th>81547</th>\n",
       "      <td>672</td>\n",
       "      <td>Blue Is the Warmest Color (La vie d'Adèle) (2013)</td>\n",
       "      <td>4.5</td>\n",
       "    </tr>\n",
       "    <tr>\n",
       "      <th>82662</th>\n",
       "      <td>672</td>\n",
       "      <td>Hard Candy (2005)</td>\n",
       "      <td>4.0</td>\n",
       "    </tr>\n",
       "    <tr>\n",
       "      <th>83296</th>\n",
       "      <td>672</td>\n",
       "      <td>Perks of Being a Wallflower, The (2012)</td>\n",
       "      <td>5.0</td>\n",
       "    </tr>\n",
       "    <tr>\n",
       "      <th>83345</th>\n",
       "      <td>672</td>\n",
       "      <td>Amour (2012)</td>\n",
       "      <td>5.0</td>\n",
       "    </tr>\n",
       "    <tr>\n",
       "      <th>84290</th>\n",
       "      <td>672</td>\n",
       "      <td>Single Man, A (2009)</td>\n",
       "      <td>5.0</td>\n",
       "    </tr>\n",
       "    <tr>\n",
       "      <th>86667</th>\n",
       "      <td>672</td>\n",
       "      <td>Mysterious Skin (2004)</td>\n",
       "      <td>4.0</td>\n",
       "    </tr>\n",
       "    <tr>\n",
       "      <th>94841</th>\n",
       "      <td>672</td>\n",
       "      <td>Skin I Live In, The (La piel que habito) (2011)</td>\n",
       "      <td>4.0</td>\n",
       "    </tr>\n",
       "    <tr>\n",
       "      <th>96393</th>\n",
       "      <td>672</td>\n",
       "      <td>Dogtown and Z-Boyz (2001)</td>\n",
       "      <td>4.0</td>\n",
       "    </tr>\n",
       "    <tr>\n",
       "      <th>97092</th>\n",
       "      <td>672</td>\n",
       "      <td>The Queen (2006)</td>\n",
       "      <td>2.0</td>\n",
       "    </tr>\n",
       "  </tbody>\n",
       "</table>\n",
       "</div>"
      ],
      "text/plain": [
       "       customer                                              movie  rating\n",
       "17858       672                                  Annie Hall (1977)     3.0\n",
       "53920       672                                  Beach, The (2000)     3.0\n",
       "75779       672               Sea Inside, The (Mar adentro) (2004)     4.5\n",
       "81547       672  Blue Is the Warmest Color (La vie d'Adèle) (2013)     4.5\n",
       "82662       672                                  Hard Candy (2005)     4.0\n",
       "83296       672            Perks of Being a Wallflower, The (2012)     5.0\n",
       "83345       672                                       Amour (2012)     5.0\n",
       "84290       672                               Single Man, A (2009)     5.0\n",
       "86667       672                             Mysterious Skin (2004)     4.0\n",
       "94841       672    Skin I Live In, The (La piel que habito) (2011)     4.0\n",
       "96393       672                          Dogtown and Z-Boyz (2001)     4.0\n",
       "97092       672                                   The Queen (2006)     2.0"
      ]
     },
     "execution_count": 6,
     "metadata": {},
     "output_type": "execute_result"
    }
   ],
   "source": [
    "# the personal ratings are now stored together with the rest of the ratings\n",
    "ratings.ix[ratings.customer == my_customer_number]"
   ]
  },
  {
   "cell_type": "code",
   "execution_count": 7,
   "metadata": {
    "collapsed": false,
    "deletable": true,
    "editable": true
   },
   "outputs": [
    {
     "data": {
      "text/html": [
       "<div>\n",
       "<table border=\"1\" class=\"dataframe\">\n",
       "  <thead>\n",
       "    <tr style=\"text-align: right;\">\n",
       "      <th></th>\n",
       "      <th>movie</th>\n",
       "    </tr>\n",
       "  </thead>\n",
       "  <tbody>\n",
       "    <tr>\n",
       "      <th>0</th>\n",
       "      <td>\"Great Performances\" Cats (1998)</td>\n",
       "    </tr>\n",
       "    <tr>\n",
       "      <th>1</th>\n",
       "      <td>$9.99 (2008)</td>\n",
       "    </tr>\n",
       "    <tr>\n",
       "      <th>2</th>\n",
       "      <td>'Hellboy': The Seeds of Creation (2004)</td>\n",
       "    </tr>\n",
       "    <tr>\n",
       "      <th>3</th>\n",
       "      <td>'Neath the Arizona Skies (1934)</td>\n",
       "    </tr>\n",
       "    <tr>\n",
       "      <th>4</th>\n",
       "      <td>'Round Midnight (1986)</td>\n",
       "    </tr>\n",
       "    <tr>\n",
       "      <th>5</th>\n",
       "      <td>'Salem's Lot (2004)</td>\n",
       "    </tr>\n",
       "    <tr>\n",
       "      <th>6</th>\n",
       "      <td>'Til There Was You (1997)</td>\n",
       "    </tr>\n",
       "    <tr>\n",
       "      <th>7</th>\n",
       "      <td>'burbs, The (1989)</td>\n",
       "    </tr>\n",
       "    <tr>\n",
       "      <th>8</th>\n",
       "      <td>'night Mother (1986)</td>\n",
       "    </tr>\n",
       "    <tr>\n",
       "      <th>9</th>\n",
       "      <td>(500) Days of Summer (2009)</td>\n",
       "    </tr>\n",
       "    <tr>\n",
       "      <th>10</th>\n",
       "      <td>*batteries not included (1987)</td>\n",
       "    </tr>\n",
       "    <tr>\n",
       "      <th>11</th>\n",
       "      <td>...And God Spoke (1993)</td>\n",
       "    </tr>\n",
       "    <tr>\n",
       "      <th>12</th>\n",
       "      <td>...And Justice for All (1979)</td>\n",
       "    </tr>\n",
       "    <tr>\n",
       "      <th>13</th>\n",
       "      <td>1-900 (06) (1994)</td>\n",
       "    </tr>\n",
       "    <tr>\n",
       "      <th>14</th>\n",
       "      <td>10 (1979)</td>\n",
       "    </tr>\n",
       "    <tr>\n",
       "      <th>15</th>\n",
       "      <td>10 Attitudes (2001)</td>\n",
       "    </tr>\n",
       "    <tr>\n",
       "      <th>16</th>\n",
       "      <td>10 Cloverfield Lane (2016)</td>\n",
       "    </tr>\n",
       "    <tr>\n",
       "      <th>17</th>\n",
       "      <td>10 Items or Less (2006)</td>\n",
       "    </tr>\n",
       "    <tr>\n",
       "      <th>18</th>\n",
       "      <td>10 Things I Hate About You (1999)</td>\n",
       "    </tr>\n",
       "    <tr>\n",
       "      <th>19</th>\n",
       "      <td>10 Years (2011)</td>\n",
       "    </tr>\n",
       "  </tbody>\n",
       "</table>\n",
       "</div>"
      ],
      "text/plain": [
       "                                      movie\n",
       "0          \"Great Performances\" Cats (1998)\n",
       "1                              $9.99 (2008)\n",
       "2   'Hellboy': The Seeds of Creation (2004)\n",
       "3           'Neath the Arizona Skies (1934)\n",
       "4                    'Round Midnight (1986)\n",
       "5                       'Salem's Lot (2004)\n",
       "6                 'Til There Was You (1997)\n",
       "7                        'burbs, The (1989)\n",
       "8                      'night Mother (1986)\n",
       "9               (500) Days of Summer (2009)\n",
       "10           *batteries not included (1987)\n",
       "11                  ...And God Spoke (1993)\n",
       "12            ...And Justice for All (1979)\n",
       "13                        1-900 (06) (1994)\n",
       "14                                10 (1979)\n",
       "15                      10 Attitudes (2001)\n",
       "16               10 Cloverfield Lane (2016)\n",
       "17                  10 Items or Less (2006)\n",
       "18        10 Things I Hate About You (1999)\n",
       "19                          10 Years (2011)"
      ]
     },
     "execution_count": 7,
     "metadata": {},
     "output_type": "execute_result"
    }
   ],
   "source": [
    "# A list with some of the movies in the dataset\n",
    "movie_list = pd.DataFrame(ratings_matrix.index)\n",
    "movie_list.head(20)"
   ]
  }
 ],
 "metadata": {
  "kernelspec": {
   "display_name": "Python 3",
   "language": "python",
   "name": "python3"
  },
  "language_info": {
   "codemirror_mode": {
    "name": "ipython",
    "version": 3
   },
   "file_extension": ".py",
   "mimetype": "text/x-python",
   "name": "python",
   "nbconvert_exporter": "python",
   "pygments_lexer": "ipython3",
   "version": "3.5.3rc1"
  }
 },
 "nbformat": 4,
 "nbformat_minor": 0
}
