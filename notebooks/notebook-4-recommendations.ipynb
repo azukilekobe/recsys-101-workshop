{
 "cells": [
  {
   "cell_type": "markdown",
   "metadata": {
    "deletable": true,
    "editable": true
   },
   "source": [
    "### Using the recommendation library"
   ]
  },
  {
   "cell_type": "code",
   "execution_count": 1,
   "metadata": {
    "collapsed": true,
    "deletable": true,
    "editable": true
   },
   "outputs": [],
   "source": [
    "import os\n",
    "os.chdir('..')"
   ]
  },
  {
   "cell_type": "code",
   "execution_count": 2,
   "metadata": {
    "collapsed": true,
    "deletable": true,
    "editable": true
   },
   "outputs": [],
   "source": [
    "# Import all the packages we need to generate recommendations\n",
    "import numpy as np\n",
    "import pandas as pd\n",
    "import src.utils as utils\n",
    "import src.recommenders as recommenders\n",
    "import src.similarity as similarity\n",
    "\n",
    "# imports necesary for plotting\n",
    "import matplotlib\n",
    "import matplotlib.pyplot as plt\n",
    "%matplotlib inline  \n",
    "\n",
    "# Enable logging on Jupyter notebook\n",
    "import logging\n",
    "logger = logging.getLogger()\n",
    "logger.setLevel(logging.DEBUG)"
   ]
  },
  {
   "cell_type": "code",
   "execution_count": 3,
   "metadata": {
    "collapsed": false,
    "deletable": true,
    "editable": true
   },
   "outputs": [
    {
     "name": "stderr",
     "output_type": "stream",
     "text": [
      "INFO:root:dataset was already downloaded\n",
      "INFO:root:dataset stored in: /Users/hcorona/github/recsys-101-workshop/data/ml-latest-small\n",
      "INFO:root:loaded 44 personal ratings\n",
      "INFO:root:loaded 9125 movies\n",
      "INFO:root:loaded 100048 ratings in total\n"
     ]
    }
   ],
   "source": [
    "# loads dataset \n",
    "dataset_folder = os.path.join(os.getcwd(), 'data')\n",
    "dataset_folder_ready = utils.load_dataset(dataset_folder)\n",
    "\n",
    "# adds personal ratings to original dataset ratings file.\n",
    "ratings_file = os.path.join(dataset_folder, 'ml-latest-small','ratings-merged.csv')\n",
    "[ratings, my_customer_number] = utils.merge_datasets(dataset_folder_ready, ratings_file)"
   ]
  },
  {
   "cell_type": "code",
   "execution_count": 4,
   "metadata": {
    "collapsed": true,
    "deletable": true,
    "editable": true
   },
   "outputs": [],
   "source": [
    "# the data is stored in a long pandas dataframe\n",
    "# we need to pivot the data to create a [user x movie] matrix\n",
    "ratings_matrix = ratings.pivot_table(index='customer', columns='movie', values='rating', fill_value=0)\n",
    "ratings_matrix = ratings_matrix.transpose()"
   ]
  },
  {
   "cell_type": "markdown",
   "metadata": {
    "deletable": true,
    "editable": true
   },
   "source": [
    "#### Understanding Movie Similarity\n",
    "1. Try with different movies \n",
    "2. Try with different types of **similarity metrics** (look in /src/similarity.py)\n",
    "3. Which **similarity metric** works the best? "
   ]
  },
  {
   "cell_type": "code",
   "execution_count": 5,
   "metadata": {
    "collapsed": false,
    "deletable": true,
    "editable": true
   },
   "outputs": [
    {
     "name": "stderr",
     "output_type": "stream",
     "text": [
      "INFO:root:top-10 movies similar to Star Wars: Episode VI - Return of the Jedi (1983), using cosine similarity\n"
     ]
    },
    {
     "name": "stdout",
     "output_type": "stream",
     "text": [
      "                                                   item  similarity\n",
      "7490  Star Wars: Episode VI - Return of the Jedi (1983)    1.000000\n",
      "7489  Star Wars: Episode V - The Empire Strikes Back...    0.785080\n",
      "7488          Star Wars: Episode IV - A New Hope (1977)    0.762233\n",
      "6460  Raiders of the Lost Ark (Indiana Jones and the...    0.656852\n",
      "4030          Indiana Jones and the Last Crusade (1989)    0.647390\n",
      "657                           Back to the Future (1985)    0.631344\n",
      "5164                   Men in Black (a.k.a. MIB) (1997)    0.627694\n",
      "7860                             Terminator, The (1984)    0.609394\n",
      "5102                                 Matrix, The (1999)    0.607405\n",
      "7485   Star Wars: Episode I - The Phantom Menace (1999)    0.598890\n"
     ]
    }
   ],
   "source": [
    "# find similar movies \n",
    "# try with different movie titles and see what happens \n",
    "movie_title = 'Star Wars: Episode VI - Return of the Jedi (1983)'\n",
    "similarity_type = \"cosine\"\n",
    "logger.info('top-10 movies similar to %s, using %s similarity', movie_title, similarity_type)\n",
    "print(similarity.compute_nearest_neighbours(movie_title, ratings_matrix, similarity_type)[0:10])"
   ]
  },
  {
   "cell_type": "code",
   "execution_count": 6,
   "metadata": {
    "collapsed": false,
    "deletable": true,
    "editable": true
   },
   "outputs": [
    {
     "name": "stderr",
     "output_type": "stream",
     "text": [
      "INFO:root:top-10 movies similar to: All About My Mother (Todo sobre mi madre) (1999), using pearson similarity\n"
     ]
    },
    {
     "name": "stdout",
     "output_type": "stream",
     "text": [
      "                                                   item  similarity\n",
      "307    All About My Mother (Todo sobre mi madre) (1999)    1.000000\n",
      "672            Bad Education (La mala educación) (2004)    0.504208\n",
      "7791                Talk to Her (Hable con Ella) (2002)    0.464245\n",
      "2368  Dreamlife of Angels, The (Vie rêvée des anges,...    0.449805\n",
      "1511         Central Station (Central do Brasil) (1998)    0.448065\n",
      "5761                                     Nowhere (1997)    0.441745\n",
      "1224                          Breaking the Waves (1996)    0.438522\n",
      "3941                     Idiots, The (Idioterne) (1998)    0.436944\n",
      "772   Battle of Algiers, The (La battaglia di Algeri...    0.432585\n",
      "9015                  Your Friends and Neighbors (1998)    0.425468\n"
     ]
    }
   ],
   "source": [
    "# find similar movies \n",
    "# try with different movie titles and see what happens \n",
    "movie_title = 'All About My Mother (Todo sobre mi madre) (1999)'\n",
    "similarity_type = \"pearson\"\n",
    "logger.info('top-10 movies similar to: %s, using %s similarity', movie_title, similarity_type)\n",
    "print(similarity.compute_nearest_neighbours(movie_title, ratings_matrix, similarity_type)[0:10])"
   ]
  },
  {
   "cell_type": "markdown",
   "metadata": {
    "deletable": true,
    "editable": true
   },
   "source": [
    "#### Creating recommendations for your personal ratings\n",
    "1. Try with different **similarity metrics** (look in /src/similarity.py)\n",
    "2. Try with different values of **K** (K is the number of neigbhours to consider when generating the recommendations)\n",
    "3. Which combination of **K** and **number of metrics** works better?, discuss it with others."
   ]
  },
  {
   "cell_type": "code",
   "execution_count": 7,
   "metadata": {
    "collapsed": false,
    "deletable": true,
    "editable": true
   },
   "outputs": [
    {
     "name": "stderr",
     "output_type": "stream",
     "text": [
      "INFO:root:computed nearest neighbours using cosine\n"
     ]
    },
    {
     "data": {
      "text/html": [
       "<div>\n",
       "<table border=\"1\" class=\"dataframe\">\n",
       "  <thead>\n",
       "    <tr style=\"text-align: right;\">\n",
       "      <th></th>\n",
       "      <th>rating</th>\n",
       "      <th>movie</th>\n",
       "    </tr>\n",
       "  </thead>\n",
       "  <tbody>\n",
       "    <tr>\n",
       "      <th>0</th>\n",
       "      <td>3.231480</td>\n",
       "      <td>Inception (2010)</td>\n",
       "    </tr>\n",
       "    <tr>\n",
       "      <th>1</th>\n",
       "      <td>2.727677</td>\n",
       "      <td>Matrix, The (1999)</td>\n",
       "    </tr>\n",
       "    <tr>\n",
       "      <th>2</th>\n",
       "      <td>2.606161</td>\n",
       "      <td>Fight Club (1999)</td>\n",
       "    </tr>\n",
       "    <tr>\n",
       "      <th>3</th>\n",
       "      <td>2.596321</td>\n",
       "      <td>Dark Knight, The (2008)</td>\n",
       "    </tr>\n",
       "    <tr>\n",
       "      <th>4</th>\n",
       "      <td>2.595773</td>\n",
       "      <td>Forrest Gump (1994)</td>\n",
       "    </tr>\n",
       "    <tr>\n",
       "      <th>5</th>\n",
       "      <td>2.547936</td>\n",
       "      <td>Shawshank Redemption, The (1994)</td>\n",
       "    </tr>\n",
       "    <tr>\n",
       "      <th>6</th>\n",
       "      <td>2.525448</td>\n",
       "      <td>Pulp Fiction (1994)</td>\n",
       "    </tr>\n",
       "    <tr>\n",
       "      <th>7</th>\n",
       "      <td>2.367299</td>\n",
       "      <td>Lord of the Rings: The Fellowship of the Ring,...</td>\n",
       "    </tr>\n",
       "    <tr>\n",
       "      <th>8</th>\n",
       "      <td>2.112106</td>\n",
       "      <td>Lord of the Rings: The Return of the King, The...</td>\n",
       "    </tr>\n",
       "    <tr>\n",
       "      <th>9</th>\n",
       "      <td>2.088432</td>\n",
       "      <td>Back to the Future (1985)</td>\n",
       "    </tr>\n",
       "  </tbody>\n",
       "</table>\n",
       "</div>"
      ],
      "text/plain": [
       "     rating                                              movie\n",
       "0  3.231480                                   Inception (2010)\n",
       "1  2.727677                                 Matrix, The (1999)\n",
       "2  2.606161                                  Fight Club (1999)\n",
       "3  2.596321                            Dark Knight, The (2008)\n",
       "4  2.595773                                Forrest Gump (1994)\n",
       "5  2.547936                   Shawshank Redemption, The (1994)\n",
       "6  2.525448                                Pulp Fiction (1994)\n",
       "7  2.367299  Lord of the Rings: The Fellowship of the Ring,...\n",
       "8  2.112106  Lord of the Rings: The Return of the King, The...\n",
       "9  2.088432                          Back to the Future (1985)"
      ]
     },
     "execution_count": 7,
     "metadata": {},
     "output_type": "execute_result"
    }
   ],
   "source": [
    "# get recommendations for a single user\n",
    "recommendations = recommenders.recommend_uknn(ratings, my_customer_number, K=200, similarity_metric='cosine', N=10)\n",
    "recommendations"
   ]
  },
  {
   "cell_type": "code",
   "execution_count": 8,
   "metadata": {
    "collapsed": false,
    "deletable": true,
    "editable": true
   },
   "outputs": [
    {
     "data": {
      "text/html": [
       "<div>\n",
       "<table border=\"1\" class=\"dataframe\">\n",
       "  <thead>\n",
       "    <tr style=\"text-align: right;\">\n",
       "      <th></th>\n",
       "      <th>rating</th>\n",
       "      <th>movie</th>\n",
       "    </tr>\n",
       "  </thead>\n",
       "  <tbody>\n",
       "    <tr>\n",
       "      <th>0</th>\n",
       "      <td>4.682608</td>\n",
       "      <td>Grand Budapest Hotel, The (2014)</td>\n",
       "    </tr>\n",
       "    <tr>\n",
       "      <th>1</th>\n",
       "      <td>4.641638</td>\n",
       "      <td>Dallas Buyers Club (2013)</td>\n",
       "    </tr>\n",
       "    <tr>\n",
       "      <th>2</th>\n",
       "      <td>4.583980</td>\n",
       "      <td>Hugo (2011)</td>\n",
       "    </tr>\n",
       "    <tr>\n",
       "      <th>3</th>\n",
       "      <td>4.570574</td>\n",
       "      <td>Harry Potter and the Deathly Hallows: Part 1 (...</td>\n",
       "    </tr>\n",
       "    <tr>\n",
       "      <th>4</th>\n",
       "      <td>4.563340</td>\n",
       "      <td>The Imitation Game (2014)</td>\n",
       "    </tr>\n",
       "    <tr>\n",
       "      <th>5</th>\n",
       "      <td>4.561054</td>\n",
       "      <td>Gravity (2013)</td>\n",
       "    </tr>\n",
       "    <tr>\n",
       "      <th>6</th>\n",
       "      <td>4.560607</td>\n",
       "      <td>Way, Way Back, The (2013)</td>\n",
       "    </tr>\n",
       "    <tr>\n",
       "      <th>7</th>\n",
       "      <td>4.559606</td>\n",
       "      <td>Star Trek (2009)</td>\n",
       "    </tr>\n",
       "    <tr>\n",
       "      <th>8</th>\n",
       "      <td>4.555776</td>\n",
       "      <td>WALL·E (2008)</td>\n",
       "    </tr>\n",
       "    <tr>\n",
       "      <th>9</th>\n",
       "      <td>4.553129</td>\n",
       "      <td>28 Weeks Later (2007)</td>\n",
       "    </tr>\n",
       "  </tbody>\n",
       "</table>\n",
       "</div>"
      ],
      "text/plain": [
       "     rating                                              movie\n",
       "0  4.682608                   Grand Budapest Hotel, The (2014)\n",
       "1  4.641638                          Dallas Buyers Club (2013)\n",
       "2  4.583980                                        Hugo (2011)\n",
       "3  4.570574  Harry Potter and the Deathly Hallows: Part 1 (...\n",
       "4  4.563340                          The Imitation Game (2014)\n",
       "5  4.561054                                     Gravity (2013)\n",
       "6  4.560607                          Way, Way Back, The (2013)\n",
       "7  4.559606                                   Star Trek (2009)\n",
       "8  4.555776                                      WALL·E (2008)\n",
       "9  4.553129                              28 Weeks Later (2007)"
      ]
     },
     "execution_count": 8,
     "metadata": {},
     "output_type": "execute_result"
    }
   ],
   "source": [
    "# get recommendations for a single user\n",
    "recommendations = recommenders.recommend_iknn(ratings, my_customer_number, K=100, similarity_metric='cosine')\n",
    "recommendations"
   ]
  }
 ],
 "metadata": {
  "kernelspec": {
   "display_name": "Python 3",
   "language": "python",
   "name": "python3"
  },
  "language_info": {
   "codemirror_mode": {
    "name": "ipython",
    "version": 3
   },
   "file_extension": ".py",
   "mimetype": "text/x-python",
   "name": "python",
   "nbconvert_exporter": "python",
   "pygments_lexer": "ipython3",
   "version": "3.5.3rc1"
  }
 },
 "nbformat": 4,
 "nbformat_minor": 0
}
