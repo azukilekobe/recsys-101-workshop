{
 "cells": [
  {
   "cell_type": "code",
   "execution_count": 1,
   "metadata": {
    "collapsed": true
   },
   "outputs": [],
   "source": [
    "import os\n",
    "os.chdir('..')"
   ]
  },
  {
   "cell_type": "code",
   "execution_count": 2,
   "metadata": {
    "collapsed": false,
    "deletable": true,
    "editable": true
   },
   "outputs": [],
   "source": [
    "import pandas as pd\n",
    "import os \n",
    "import src.utils as utils\n",
    "\n",
    "# Enable logging on Jupyter notebook\n",
    "import logging\n",
    "logger = logging.getLogger()\n",
    "logger.setLevel(logging.DEBUG)"
   ]
  },
  {
   "cell_type": "markdown",
   "metadata": {},
   "source": [
    "### How to export your IMDb ratings \n",
    "1. Go to [IMDb](http://imdb.com) and make an account if you don't have one\n",
    "2. If you have no ratings in your account, rate at least 10 movies you liked and 10 movies you didn't like. \n",
    "2. Go to your account (top right) and click on \"your Ratings\"\n",
    "3. Go to the bottom of the page, next to the \"next\" button, you will find an \"Export this list\" button. It will export your ratings to your Downloads folder. \n",
    "4. Move the file inside your /data folder in this repo\n"
   ]
  },
  {
   "cell_type": "code",
   "execution_count": 3,
   "metadata": {
    "collapsed": false,
    "deletable": true,
    "editable": true
   },
   "outputs": [],
   "source": [
    "# paths\n",
    "dataset_folder = os.getcwd() + '/data/'\n",
    "imdb_exported_ratings_file = dataset_folder +'/ratings.csv'\n",
    "links_file = dataset_folder + '/ml-latest-small/links.csv'\n",
    "ratings_file = dataset_folder + '/ratings-imdb.csv'"
   ]
  },
  {
   "cell_type": "code",
   "execution_count": 4,
   "metadata": {
    "collapsed": false,
    "deletable": true,
    "editable": true
   },
   "outputs": [
    {
     "name": "stderr",
     "output_type": "stream",
     "text": [
      "INFO:root:wrote IMDB ratings into the dataset format to /Users/hcorona/github/recsys-101-workshop/data//ratings-imdb.csv\n"
     ]
    }
   ],
   "source": [
    "utils.import_imdb_ratings(imdb_exported_ratings_file, links_file, ratings_file)"
   ]
  }
 ],
 "metadata": {
  "kernelspec": {
   "display_name": "Python 3",
   "language": "python",
   "name": "python3"
  },
  "language_info": {
   "codemirror_mode": {
    "name": "ipython",
    "version": 3
   },
   "file_extension": ".py",
   "mimetype": "text/x-python",
   "name": "python",
   "nbconvert_exporter": "python",
   "pygments_lexer": "ipython3",
   "version": "3.5.3rc1"
  }
 },
 "nbformat": 4,
 "nbformat_minor": 2
}
