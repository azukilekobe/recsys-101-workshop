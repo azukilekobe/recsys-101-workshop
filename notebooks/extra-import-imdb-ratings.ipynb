{
 "cells": [
  {
   "cell_type": "code",
   "execution_count": 1,
   "metadata": {
    "collapsed": true,
    "deletable": true,
    "editable": true
   },
   "outputs": [],
   "source": [
    "import pandas as pd\n",
    "import os \n",
    "import logging\n",
    "\n",
    "# Enable logging on Jupyter notebook\n",
    "import logging\n",
    "logger = logging.getLogger()\n",
    "logger.setLevel(logging.DEBUG)"
   ]
  },
  {
   "cell_type": "code",
   "execution_count": 2,
   "metadata": {
    "collapsed": false,
    "deletable": true,
    "editable": true
   },
   "outputs": [],
   "source": [
    "imdb_exported_ratings_file = os.getenv(\"HOME\")+\"/Downloads/ratings.csv\"\n",
    "links_file = '../data/ml-latest-small/links.csv'\n",
    "ratings_file = '../data/ratings-imdb.csv'"
   ]
  },
  {
   "cell_type": "code",
   "execution_count": 3,
   "metadata": {
    "collapsed": false,
    "deletable": true,
    "editable": true
   },
   "outputs": [],
   "source": [
    "def import_imdb_ratings(imdb_exported_ratings_file, links_file, ratings_file): \n",
    "    # you can download the ratings from your imdb profile by clicking export \n",
    "    my_imdb_ratings = pd.read_csv(imdb_exported_ratings_file, usecols=[1,5,8])\n",
    "    my_imdb_ratings['const'] = my_imdb_ratings['const'].map(lambda x: str(x)[2:])   #strip the tt at the start\n",
    "    my_imdb_ratings['You rated'] = my_imdb_ratings['You rated'].map(lambda x: x/2)    #move to 0-5 rating\n",
    "\n",
    "    # the movielens dataset has a links.csv files that we can use to match\n",
    "    links = pd.read_csv(links_file)\n",
    "    links['imdbId'] = links['imdbId'].astype('str')\n",
    "\n",
    "    personal_imdb_ratings = pd.merge(my_imdb_ratings, links, left_on='const', right_on='imdbId')\n",
    "    personal_imdb_ratings = personal_imdb_ratings[['movieId','You rated','Title']]\n",
    "    personal_imdb_ratings.columns = ['movieId','rating','title']\n",
    "    personal_imdb_ratings.to_csv(ratings_file, index=False, index_label=False)\n",
    "    logging.info('wrote IMDB ratings into the dataset format to %s', ratings_file)"
   ]
  },
  {
   "cell_type": "code",
   "execution_count": 4,
   "metadata": {
    "collapsed": false,
    "deletable": true,
    "editable": true
   },
   "outputs": [
    {
     "name": "stderr",
     "output_type": "stream",
     "text": [
      "INFO:root:wrote IMDB ratings into the dataset format to ../data/ratings-imdb.csv\n"
     ]
    }
   ],
   "source": [
    "import_imdb_ratings(imdb_exported_ratings_file, links_file, ratings_file)"
   ]
  },
  {
   "cell_type": "code",
   "execution_count": null,
   "metadata": {
    "collapsed": true,
    "deletable": true,
    "editable": true
   },
   "outputs": [],
   "source": []
  }
 ],
 "metadata": {
  "kernelspec": {
   "display_name": "Python 3",
   "language": "python",
   "name": "python3"
  },
  "language_info": {
   "codemirror_mode": {
    "name": "ipython",
    "version": 3
   },
   "file_extension": ".py",
   "mimetype": "text/x-python",
   "name": "python",
   "nbconvert_exporter": "python",
   "pygments_lexer": "ipython3",
   "version": "3.5.3rc1"
  }
 },
 "nbformat": 4,
 "nbformat_minor": 2
}
