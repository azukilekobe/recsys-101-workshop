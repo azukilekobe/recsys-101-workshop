{
 "cells": [
  {
   "cell_type": "markdown",
   "metadata": {},
   "source": [
    "### Data Exploration and other examples"
   ]
  },
  {
   "cell_type": "code",
   "execution_count": 1,
   "metadata": {
    "collapsed": true
   },
   "outputs": [],
   "source": [
    "import os\n",
    "os.chdir('..')"
   ]
  },
  {
   "cell_type": "code",
   "execution_count": 2,
   "metadata": {
    "collapsed": true
   },
   "outputs": [],
   "source": [
    "# Import all the packages we need to generate recommendations\n",
    "import pandas as pd\n",
    "import wwc_recsys.utils as utils\n",
    "import wwc_recsys.recommenders as recommenders\n",
    "import wwc_recsys.similarity as similarity"
   ]
  },
  {
   "cell_type": "code",
   "execution_count": 3,
   "metadata": {
    "collapsed": true
   },
   "outputs": [],
   "source": [
    "# Get the dataset folder. If the dataset is not downloaded, it downloads it and unzips it\n",
    "# It merges my_ratings_file with the dataset\n",
    "datasets_folder = os.getcwd()+'/data/'\n",
    "dataset_url = 'http://files.grouplens.org/datasets/movielens/ml-latest-small.zip'\n",
    "my_ratings_file = 'ratings_humberto.csv'\n",
    "[ratings, my_customer_number] = utils.merge_datasets(datasets_folder, dataset_url, my_ratings_file)"
   ]
  },
  {
   "cell_type": "code",
   "execution_count": 4,
   "metadata": {
    "collapsed": true
   },
   "outputs": [],
   "source": [
    "# transform the data to get similar movies \n",
    "[ratings, my_customer_number] = utils.merge_datasets(datasets_folder, dataset_url, my_ratings_file)\n",
    "ratings_matrix = ratings.pivot_table(index='customer', columns='movie', values='rating', fill_value=0)\n",
    "ratings_matrix = ratings_matrix.transpose()\n",
    "movie_list = pd.DataFrame(ratings_matrix.index)"
   ]
  },
  {
   "cell_type": "code",
   "execution_count": 6,
   "metadata": {
    "collapsed": false
   },
   "outputs": [
    {
     "data": {
      "text/html": [
       "<div>\n",
       "<table border=\"1\" class=\"dataframe\">\n",
       "  <thead>\n",
       "    <tr style=\"text-align: right;\">\n",
       "      <th></th>\n",
       "      <th>customer</th>\n",
       "      <th>movie</th>\n",
       "      <th>rating</th>\n",
       "    </tr>\n",
       "  </thead>\n",
       "  <tbody>\n",
       "    <tr>\n",
       "      <th>20853</th>\n",
       "      <td>669</td>\n",
       "      <td>Annie Hall (1977)</td>\n",
       "      <td>3.0</td>\n",
       "    </tr>\n",
       "    <tr>\n",
       "      <th>43746</th>\n",
       "      <td>669</td>\n",
       "      <td>Beach, The (2000)</td>\n",
       "      <td>3.0</td>\n",
       "    </tr>\n",
       "    <tr>\n",
       "      <th>47953</th>\n",
       "      <td>669</td>\n",
       "      <td>The Queen (2006)</td>\n",
       "      <td>2.0</td>\n",
       "    </tr>\n",
       "    <tr>\n",
       "      <th>67295</th>\n",
       "      <td>669</td>\n",
       "      <td>Perks of Being a Wallflower, The (2012)</td>\n",
       "      <td>5.0</td>\n",
       "    </tr>\n",
       "    <tr>\n",
       "      <th>78656</th>\n",
       "      <td>669</td>\n",
       "      <td>Hard Candy (2005)</td>\n",
       "      <td>4.0</td>\n",
       "    </tr>\n",
       "    <tr>\n",
       "      <th>93562</th>\n",
       "      <td>669</td>\n",
       "      <td>Dogtown and Z-Boyz (2001)</td>\n",
       "      <td>4.0</td>\n",
       "    </tr>\n",
       "    <tr>\n",
       "      <th>96313</th>\n",
       "      <td>669</td>\n",
       "      <td>Blue Is the Warmest Color (La vie d'Adèle) (2013)</td>\n",
       "      <td>4.5</td>\n",
       "    </tr>\n",
       "    <tr>\n",
       "      <th>101256</th>\n",
       "      <td>669</td>\n",
       "      <td>Amour (2012)</td>\n",
       "      <td>5.0</td>\n",
       "    </tr>\n",
       "    <tr>\n",
       "      <th>102152</th>\n",
       "      <td>669</td>\n",
       "      <td>Single Man, A (2009)</td>\n",
       "      <td>5.0</td>\n",
       "    </tr>\n",
       "    <tr>\n",
       "      <th>102231</th>\n",
       "      <td>669</td>\n",
       "      <td>Skin I Live In, The (La piel que habito) (2011)</td>\n",
       "      <td>4.0</td>\n",
       "    </tr>\n",
       "    <tr>\n",
       "      <th>103362</th>\n",
       "      <td>669</td>\n",
       "      <td>Sea Inside, The (Mar adentro) (2004)</td>\n",
       "      <td>4.5</td>\n",
       "    </tr>\n",
       "    <tr>\n",
       "      <th>104411</th>\n",
       "      <td>669</td>\n",
       "      <td>Mysterious Skin (2004)</td>\n",
       "      <td>4.0</td>\n",
       "    </tr>\n",
       "  </tbody>\n",
       "</table>\n",
       "</div>"
      ],
      "text/plain": [
       "        customer                                              movie  rating\n",
       "20853        669                                  Annie Hall (1977)     3.0\n",
       "43746        669                                  Beach, The (2000)     3.0\n",
       "47953        669                                   The Queen (2006)     2.0\n",
       "67295        669            Perks of Being a Wallflower, The (2012)     5.0\n",
       "78656        669                                  Hard Candy (2005)     4.0\n",
       "93562        669                          Dogtown and Z-Boyz (2001)     4.0\n",
       "96313        669  Blue Is the Warmest Color (La vie d'Adèle) (2013)     4.5\n",
       "101256       669                                       Amour (2012)     5.0\n",
       "102152       669                               Single Man, A (2009)     5.0\n",
       "102231       669    Skin I Live In, The (La piel que habito) (2011)     4.0\n",
       "103362       669               Sea Inside, The (Mar adentro) (2004)     4.5\n",
       "104411       669                             Mysterious Skin (2004)     4.0"
      ]
     },
     "execution_count": 6,
     "metadata": {},
     "output_type": "execute_result"
    }
   ],
   "source": [
    "# my ratings\n",
    "ratings.ix[ratings.customer == my_customer_number]"
   ]
  },
  {
   "cell_type": "code",
   "execution_count": 14,
   "metadata": {
    "collapsed": false
   },
   "outputs": [
    {
     "data": {
      "text/plain": [
       "4.0    28884\n",
       "3.0    21731\n",
       "5.0    14859\n",
       "3.5    12237\n",
       "4.5     8189\n",
       "2.0     7944\n",
       "2.5     5484\n",
       "1.0     3258\n",
       "1.5     1567\n",
       "0.5     1198\n",
       "Name: rating, dtype: int64"
      ]
     },
     "execution_count": 14,
     "metadata": {},
     "output_type": "execute_result"
    },
    {
     "data": {
      "image/png": "[encoded data removed]",
      "text/plain": [
       "<matplotlib.figure.Figure at 0x11b6bd128>"
      ]
     },
     "metadata": {},
     "output_type": "display_data"
    }
   ],
   "source": [
    "# ratings distribution \n",
    "\n",
    "import matplotlib\n",
    "import numpy as np\n",
    "import matplotlib.pyplot as plt\n",
    "%matplotlib inline  \n",
    "ratings['rating'].hist()\n",
    "ratings.rating.value_counts()"
   ]
  },
  {
   "cell_type": "code",
   "execution_count": 18,
   "metadata": {
    "collapsed": false
   },
   "outputs": [],
   "source": [
    "# number of users, items and ratings\n",
    "n_users= len(ratings['customer'].unique())\n",
    "n_items= len(ratings['movie'].unique())\n",
    "n_ratings = ratings.shape[0]\n"
   ]
  },
  {
   "cell_type": "code",
   "execution_count": 19,
   "metadata": {
    "collapsed": false
   },
   "outputs": [
    {
     "name": "stdout",
     "output_type": "stream",
     "text": [
      "number of users 669\n",
      "number of items 10323\n",
      "number of ratings 105351\n"
     ]
    }
   ],
   "source": [
    "print('number of users',n_users)\n",
    "print('number of items', n_items)\n",
    "print('number of ratings', n_ratings)"
   ]
  },
  {
   "cell_type": "code",
   "execution_count": 20,
   "metadata": {
    "collapsed": false
   },
   "outputs": [
    {
     "name": "stdout",
     "output_type": "stream",
     "text": [
      "Help on function recommend_iknn in module wwc_recsys.recommenders:\n",
      "\n",
      "recommend_iknn(ratings, target_customer, K=10, N=10, similarity_metric='pearson')\n",
      "    Give list of recommendations to a particular user\n",
      "    :param target_customer: user for which we want to compute recommendations\n",
      "    :param ratings: a dataframe with ratings\n",
      "    :param K: how many neigbhours to use in UK-NN algorithm\n",
      "    :param N: how many recommendations to output in top-N recommendations\n",
      "    :param similarity_metric: which similarity metric to use\n",
      "    :return: a dataframe with a list of recommendations and the predicted rating\n",
      "\n"
     ]
    }
   ],
   "source": [
    "# get recommendations for a single user  (with default parameters)\n",
    "# filter by threshold \n",
    "help(recommenders.recommend_iknn)"
   ]
  },
  {
   "cell_type": "code",
   "execution_count": 26,
   "metadata": {
    "collapsed": false
   },
   "outputs": [],
   "source": [
    "recommendations = recommenders.recommend_iknn(ratings, my_customer_number, K=2, N=100, similarity_metric='pearson')"
   ]
  },
  {
   "cell_type": "code",
   "execution_count": 27,
   "metadata": {
    "collapsed": false
   },
   "outputs": [
    {
     "data": {
      "text/html": [
       "<div>\n",
       "<table border=\"1\" class=\"dataframe\">\n",
       "  <thead>\n",
       "    <tr style=\"text-align: right;\">\n",
       "      <th></th>\n",
       "      <th>rating</th>\n",
       "      <th>movie</th>\n",
       "    </tr>\n",
       "  </thead>\n",
       "  <tbody>\n",
       "    <tr>\n",
       "      <th>0</th>\n",
       "      <td>5.0</td>\n",
       "      <td>Single Man, A (2009)</td>\n",
       "    </tr>\n",
       "    <tr>\n",
       "      <th>1</th>\n",
       "      <td>5.0</td>\n",
       "      <td>Shaun the Sheep Movie (2015)</td>\n",
       "    </tr>\n",
       "    <tr>\n",
       "      <th>2</th>\n",
       "      <td>5.0</td>\n",
       "      <td>Melancholia (2011)</td>\n",
       "    </tr>\n",
       "    <tr>\n",
       "      <th>3</th>\n",
       "      <td>5.0</td>\n",
       "      <td>Daddy Day Care (2003)</td>\n",
       "    </tr>\n",
       "    <tr>\n",
       "      <th>4</th>\n",
       "      <td>5.0</td>\n",
       "      <td>Barney's Version (2010)</td>\n",
       "    </tr>\n",
       "    <tr>\n",
       "      <th>5</th>\n",
       "      <td>4.5</td>\n",
       "      <td>Submarine (2010)</td>\n",
       "    </tr>\n",
       "    <tr>\n",
       "      <th>6</th>\n",
       "      <td>4.5</td>\n",
       "      <td>From One Second to the Next (2013)</td>\n",
       "    </tr>\n",
       "    <tr>\n",
       "      <th>7</th>\n",
       "      <td>4.5</td>\n",
       "      <td>Crossing Over (2009)</td>\n",
       "    </tr>\n",
       "    <tr>\n",
       "      <th>8</th>\n",
       "      <td>4.5</td>\n",
       "      <td>42 (2013)</td>\n",
       "    </tr>\n",
       "  </tbody>\n",
       "</table>\n",
       "</div>"
      ],
      "text/plain": [
       "   rating                               movie\n",
       "0     5.0                Single Man, A (2009)\n",
       "1     5.0        Shaun the Sheep Movie (2015)\n",
       "2     5.0                  Melancholia (2011)\n",
       "3     5.0               Daddy Day Care (2003)\n",
       "4     5.0             Barney's Version (2010)\n",
       "5     4.5                    Submarine (2010)\n",
       "6     4.5  From One Second to the Next (2013)\n",
       "7     4.5                Crossing Over (2009)\n",
       "8     4.5                           42 (2013)"
      ]
     },
     "execution_count": 27,
     "metadata": {},
     "output_type": "execute_result"
    }
   ],
   "source": [
    "recommendations = recommendations.ix[recommendations.rating >= 4.5]\n",
    "recommendations "
   ]
  },
  {
   "cell_type": "code",
   "execution_count": 39,
   "metadata": {
    "collapsed": false
   },
   "outputs": [
    {
     "data": {
      "text/plain": [
       "<matplotlib.axes._subplots.AxesSubplot at 0x1180835f8>"
      ]
     },
     "execution_count": 39,
     "metadata": {},
     "output_type": "execute_result"
    },
    {
     "data": {
      "image/png": "[encoded data removed]",
      "text/plain": [
       "<matplotlib.figure.Figure at 0x11b6da320>"
      ]
     },
     "metadata": {},
     "output_type": "display_data"
    }
   ],
   "source": [
    "# movie popularity distribution\n",
    "popularity = pd.DataFrame(ratings['movie'].value_counts())\n",
    "popularity.sort_values(by='movie', ascending=False)\n",
    "popularity.plot()"
   ]
  },
  {
   "cell_type": "code",
   "execution_count": 40,
   "metadata": {
    "collapsed": false
   },
   "outputs": [
    {
     "data": {
      "text/plain": [
       "<matplotlib.axes._subplots.AxesSubplot at 0x11b7c66a0>"
      ]
     },
     "execution_count": 40,
     "metadata": {},
     "output_type": "execute_result"
    },
    {
     "data": {
      "image/png": "[encoded data removed]",
      "text/plain": [
       "<matplotlib.figure.Figure at 0x11b6a7c88>"
      ]
     },
     "metadata": {},
     "output_type": "display_data"
    }
   ],
   "source": [
    "popularity.ix[0:100].plot()"
   ]
  },
  {
   "cell_type": "code",
   "execution_count": null,
   "metadata": {
    "collapsed": true
   },
   "outputs": [],
   "source": []
  }
 ],
 "metadata": {
  "kernelspec": {
   "display_name": "Python 3",
   "language": "python",
   "name": "python3"
  },
  "language_info": {
   "codemirror_mode": {
    "name": "ipython",
    "version": 3
   },
   "file_extension": ".py",
   "mimetype": "text/x-python",
   "name": "python",
   "nbconvert_exporter": "python",
   "pygments_lexer": "ipython3",
   "version": "3.5.1"
  }
 },
 "nbformat": 4,
 "nbformat_minor": 0
}
