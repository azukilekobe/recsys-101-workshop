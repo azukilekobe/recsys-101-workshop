{
 "cells": [
  {
   "cell_type": "markdown",
   "metadata": {
    "deletable": true,
    "editable": true
   },
   "source": [
    "### Understanding the concepts of similarity between movies\n",
    "* [Cosine similarity in recommender systems](https://ashokharnal.wordpress.com/2014/12/18/worked-out-example-item-based-collaborative-filtering-for-recommenmder-engine/)\n",
    "* [Other metrics in recommender systems(http://www.cs.carleton.edu/cs_comps/0607/recommend/recommender/itembased.html)\n",
    "* http://dataconomy.com/2015/04/implementing-the-five-most-popular-similarity-measures-in-python/"
   ]
  },
  {
   "cell_type": "code",
   "execution_count": 1,
   "metadata": {
    "collapsed": true,
    "deletable": true,
    "editable": true
   },
   "outputs": [],
   "source": [
    "import os\n",
    "os.chdir('..')"
   ]
  },
  {
   "cell_type": "code",
   "execution_count": 2,
   "metadata": {
    "collapsed": false,
    "deletable": true,
    "editable": true
   },
   "outputs": [],
   "source": [
    "# Import all the packages we need to generate recommendations\n",
    "import pandas as pd\n",
    "import src.utils as utils\n",
    "import src.recommenders as recommenders\n",
    "import src.similarity as similarity\n",
    "\n",
    "# Enable logging on Jupyter notebook\n",
    "import logging\n",
    "logger = logging.getLogger()\n",
    "logger.setLevel(logging.DEBUG)"
   ]
  },
  {
   "cell_type": "markdown",
   "metadata": {},
   "source": [
    "### Similarity metrics: When both Customers rate two movies exactly the same"
   ]
  },
  {
   "cell_type": "code",
   "execution_count": 3,
   "metadata": {
    "collapsed": false
   },
   "outputs": [
    {
     "data": {
      "text/html": [
       "<div>\n",
       "<table border=\"1\" class=\"dataframe\">\n",
       "  <thead>\n",
       "    <tr style=\"text-align: right;\">\n",
       "      <th>movie</th>\n",
       "      <th>movie_1</th>\n",
       "      <th>movie_2</th>\n",
       "    </tr>\n",
       "    <tr>\n",
       "      <th>customer</th>\n",
       "      <th></th>\n",
       "      <th></th>\n",
       "    </tr>\n",
       "  </thead>\n",
       "  <tbody>\n",
       "    <tr>\n",
       "      <th>Ana</th>\n",
       "      <td>1</td>\n",
       "      <td>5</td>\n",
       "    </tr>\n",
       "    <tr>\n",
       "      <th>Bob</th>\n",
       "      <td>1</td>\n",
       "      <td>5</td>\n",
       "    </tr>\n",
       "  </tbody>\n",
       "</table>\n",
       "</div>"
      ],
      "text/plain": [
       "movie     movie_1  movie_2\n",
       "customer                  \n",
       "Ana             1        5\n",
       "Bob             1        5"
      ]
     },
     "execution_count": 3,
     "metadata": {},
     "output_type": "execute_result"
    }
   ],
   "source": [
    "# Create a dataframe manually to illustrate the examples\n",
    "ratings = pd.DataFrame(columns = [\"customer\", \"movie\", \"rating\"], \n",
    "                       data=[\n",
    "                           ['Ana','movie_1',1],\n",
    "                           ['Ana', 'movie_2', 5],\n",
    "                           ['Bob','movie_1',1],\n",
    "                           ['Bob', 'movie_2', 5]])\n",
    "ratings_matrix = ratings.pivot_table(index='customer', columns='movie', values='rating', fill_value=0)\n",
    "\n",
    "rating_1 = ratings_matrix.ix['Ana']\n",
    "rating_2 = ratings_matrix.ix['Bob']\n",
    "\n",
    "ratings_matrix"
   ]
  },
  {
   "cell_type": "code",
   "execution_count": 4,
   "metadata": {
    "collapsed": false
   },
   "outputs": [
    {
     "name": "stdout",
     "output_type": "stream",
     "text": [
      "similarity intersection:  2\n",
      "similarity cosine:  1.0\n",
      "similarity pearson:  1.0\n",
      "similarity jaccard:  1.0\n"
     ]
    }
   ],
   "source": [
    "s_intersection =similarity.calculate_distance(rating_1, rating_2, 'intersection')\n",
    "s_cosine = similarity.calculate_distance(rating_1, rating_2, 'cosine')\n",
    "s_pearson = similarity.calculate_distance(rating_1, rating_2, 'pearson')\n",
    "s_jaccard = similarity.calculate_distance(rating_1, rating_2, 'jaccard')\n",
    "\n",
    "print(\"similarity intersection: \", s_intersection)\n",
    "print(\"similarity cosine: \", s_cosine)\n",
    "print(\"similarity pearson: \", s_pearson)\n",
    "print(\"similarity jaccard: \", s_jaccard)"
   ]
  },
  {
   "cell_type": "markdown",
   "metadata": {},
   "source": [
    "### When two customers rate the same movies very differently"
   ]
  },
  {
   "cell_type": "code",
   "execution_count": 5,
   "metadata": {
    "collapsed": false
   },
   "outputs": [
    {
     "data": {
      "text/html": [
       "<div>\n",
       "<table border=\"1\" class=\"dataframe\">\n",
       "  <thead>\n",
       "    <tr style=\"text-align: right;\">\n",
       "      <th>movie</th>\n",
       "      <th>movie_1</th>\n",
       "      <th>movie_2</th>\n",
       "    </tr>\n",
       "    <tr>\n",
       "      <th>customer</th>\n",
       "      <th></th>\n",
       "      <th></th>\n",
       "    </tr>\n",
       "  </thead>\n",
       "  <tbody>\n",
       "    <tr>\n",
       "      <th>Ana</th>\n",
       "      <td>5</td>\n",
       "      <td>1</td>\n",
       "    </tr>\n",
       "    <tr>\n",
       "      <th>Bob</th>\n",
       "      <td>1</td>\n",
       "      <td>5</td>\n",
       "    </tr>\n",
       "  </tbody>\n",
       "</table>\n",
       "</div>"
      ],
      "text/plain": [
       "movie     movie_1  movie_2\n",
       "customer                  \n",
       "Ana             5        1\n",
       "Bob             1        5"
      ]
     },
     "execution_count": 5,
     "metadata": {},
     "output_type": "execute_result"
    }
   ],
   "source": [
    "# Create a dataframe manually to illustrate the examples\n",
    "ratings = pd.DataFrame(columns = [\"customer\", \"movie\", \"rating\"], \n",
    "                       data=[\n",
    "                           ['Ana','movie_1',5],\n",
    "                           ['Ana', 'movie_2', 1],\n",
    "                           ['Bob','movie_1',1],\n",
    "                           ['Bob', 'movie_2', 5]])\n",
    "ratings_matrix = ratings.pivot_table(index='customer', columns='movie', values='rating', fill_value=0)\n",
    "\n",
    "rating_1 = ratings_matrix.ix['Ana']\n",
    "rating_2 = ratings_matrix.ix['Bob']\n",
    "\n",
    "ratings_matrix"
   ]
  },
  {
   "cell_type": "code",
   "execution_count": 6,
   "metadata": {
    "collapsed": false
   },
   "outputs": [
    {
     "name": "stdout",
     "output_type": "stream",
     "text": [
      "similarity intersection:  2\n",
      "similarity cosine:  0.384615384615\n",
      "similarity pearson:  -1.0\n",
      "similarity jaccard:  1.0\n"
     ]
    }
   ],
   "source": [
    "s_intersection =similarity.calculate_distance(rating_1, rating_2, 'intersection')\n",
    "s_cosine = similarity.calculate_distance(rating_1, rating_2, 'cosine')\n",
    "s_pearson = similarity.calculate_distance(rating_1, rating_2, 'pearson')\n",
    "s_jaccard = similarity.calculate_distance(rating_1, rating_2, 'jaccard')\n",
    "\n",
    "print(\"similarity intersection: \", s_intersection)\n",
    "print(\"similarity cosine: \", s_cosine)\n",
    "print(\"similarity pearson: \", s_pearson)\n",
    "print(\"similarity jaccard: \", s_jaccard)"
   ]
  },
  {
   "cell_type": "markdown",
   "metadata": {},
   "source": [
    "### When two customers rate different movies"
   ]
  },
  {
   "cell_type": "code",
   "execution_count": 7,
   "metadata": {
    "collapsed": false
   },
   "outputs": [
    {
     "data": {
      "text/html": [
       "<div>\n",
       "<table border=\"1\" class=\"dataframe\">\n",
       "  <thead>\n",
       "    <tr style=\"text-align: right;\">\n",
       "      <th>movie</th>\n",
       "      <th>movie_1</th>\n",
       "      <th>movie_2</th>\n",
       "      <th>movie_3</th>\n",
       "      <th>movie_4</th>\n",
       "    </tr>\n",
       "    <tr>\n",
       "      <th>customer</th>\n",
       "      <th></th>\n",
       "      <th></th>\n",
       "      <th></th>\n",
       "      <th></th>\n",
       "    </tr>\n",
       "  </thead>\n",
       "  <tbody>\n",
       "    <tr>\n",
       "      <th>Ana</th>\n",
       "      <td>5</td>\n",
       "      <td>1</td>\n",
       "      <td>0</td>\n",
       "      <td>0</td>\n",
       "    </tr>\n",
       "    <tr>\n",
       "      <th>Bob</th>\n",
       "      <td>0</td>\n",
       "      <td>0</td>\n",
       "      <td>5</td>\n",
       "      <td>5</td>\n",
       "    </tr>\n",
       "  </tbody>\n",
       "</table>\n",
       "</div>"
      ],
      "text/plain": [
       "movie     movie_1  movie_2  movie_3  movie_4\n",
       "customer                                    \n",
       "Ana             5        1        0        0\n",
       "Bob             0        0        5        5"
      ]
     },
     "execution_count": 7,
     "metadata": {},
     "output_type": "execute_result"
    }
   ],
   "source": [
    "# Create a dataframe manually to illustrate the examples\n",
    "data=[['Ana','movie_1',5],['Ana', 'movie_2', 1],['Bob','movie_3',5],['Bob', 'movie_4', 5]]\n",
    "ratings = pd.DataFrame(columns = [\"customer\", \"movie\", \"rating\"], data=data)\n",
    "ratings_matrix = ratings.pivot_table(index='customer', columns='movie', values='rating', fill_value=0)\n",
    "\n",
    "rating_1 = ratings_matrix.ix['Ana']\n",
    "rating_2 = ratings_matrix.ix['Bob']\n",
    "\n",
    "ratings_matrix"
   ]
  },
  {
   "cell_type": "code",
   "execution_count": 8,
   "metadata": {
    "collapsed": false
   },
   "outputs": [
    {
     "name": "stdout",
     "output_type": "stream",
     "text": [
      "similarity intersection:  0\n",
      "similarity cosine:  0.0\n",
      "similarity pearson:  -0.727606875109\n",
      "similarity jaccard:  0.0\n"
     ]
    }
   ],
   "source": [
    "s_intersection =similarity.calculate_distance(rating_1, rating_2, 'intersection')\n",
    "s_cosine = similarity.calculate_distance(rating_1, rating_2, 'cosine')\n",
    "s_pearson = similarity.calculate_distance(rating_1, rating_2, 'pearson')\n",
    "s_jaccard = similarity.calculate_distance(rating_1, rating_2, 'jaccard')\n",
    "\n",
    "print(\"similarity intersection: \", s_intersection)\n",
    "print(\"similarity cosine: \", s_cosine)\n",
    "print(\"similarity pearson: \", s_pearson)\n",
    "print(\"similarity jaccard: \", s_jaccard)"
   ]
  },
  {
   "cell_type": "markdown",
   "metadata": {},
   "source": [
    "### Positive people vs. Negative people "
   ]
  },
  {
   "cell_type": "code",
   "execution_count": 9,
   "metadata": {
    "collapsed": false
   },
   "outputs": [
    {
     "data": {
      "text/html": [
       "<div>\n",
       "<table border=\"1\" class=\"dataframe\">\n",
       "  <thead>\n",
       "    <tr style=\"text-align: right;\">\n",
       "      <th>movie</th>\n",
       "      <th>movie_1</th>\n",
       "      <th>movie_2</th>\n",
       "    </tr>\n",
       "    <tr>\n",
       "      <th>customer</th>\n",
       "      <th></th>\n",
       "      <th></th>\n",
       "    </tr>\n",
       "  </thead>\n",
       "  <tbody>\n",
       "    <tr>\n",
       "      <th>Ana</th>\n",
       "      <td>5</td>\n",
       "      <td>4</td>\n",
       "    </tr>\n",
       "    <tr>\n",
       "      <th>Bob</th>\n",
       "      <td>3</td>\n",
       "      <td>2</td>\n",
       "    </tr>\n",
       "  </tbody>\n",
       "</table>\n",
       "</div>"
      ],
      "text/plain": [
       "movie     movie_1  movie_2\n",
       "customer                  \n",
       "Ana             5        4\n",
       "Bob             3        2"
      ]
     },
     "execution_count": 9,
     "metadata": {},
     "output_type": "execute_result"
    }
   ],
   "source": [
    "# Create a dataframe manually to illustrate the examples\n",
    "data=[['Ana','movie_1',5],['Ana', 'movie_2', 4],['Bob','movie_1',3],['Bob', 'movie_2', 2]]\n",
    "ratings = pd.DataFrame(columns = [\"customer\", \"movie\", \"rating\"], data=data)\n",
    "ratings_matrix = ratings.pivot_table(index='customer', columns='movie', values='rating', fill_value=0)\n",
    "\n",
    "rating_1 = ratings_matrix.ix['Ana']\n",
    "rating_2 = ratings_matrix.ix['Bob']\n",
    "\n",
    "ratings_matrix"
   ]
  },
  {
   "cell_type": "code",
   "execution_count": 10,
   "metadata": {
    "collapsed": false
   },
   "outputs": [
    {
     "name": "stdout",
     "output_type": "stream",
     "text": [
      "similarity intersection:  2\n",
      "similarity cosine:  0.996240588196\n",
      "similarity pearson:  1.0\n",
      "similarity jaccard:  1.0\n"
     ]
    }
   ],
   "source": [
    "s_intersection =similarity.calculate_distance(rating_1, rating_2, 'intersection')\n",
    "s_cosine = similarity.calculate_distance(rating_1, rating_2, 'cosine')\n",
    "s_pearson = similarity.calculate_distance(rating_1, rating_2, 'pearson')\n",
    "s_jaccard = similarity.calculate_distance(rating_1, rating_2, 'jaccard')\n",
    "\n",
    "print(\"similarity intersection: \", s_intersection)\n",
    "print(\"similarity cosine: \", s_cosine)\n",
    "print(\"similarity pearson: \", s_pearson)\n",
    "print(\"similarity jaccard: \", s_jaccard)"
   ]
  },
  {
   "cell_type": "markdown",
   "metadata": {},
   "source": [
    "### People who rate a lot of movies vs. people who don't rate a lot of movies"
   ]
  },
  {
   "cell_type": "code",
   "execution_count": 11,
   "metadata": {
    "collapsed": false
   },
   "outputs": [
    {
     "data": {
      "text/html": [
       "<div>\n",
       "<table border=\"1\" class=\"dataframe\">\n",
       "  <thead>\n",
       "    <tr style=\"text-align: right;\">\n",
       "      <th>movie</th>\n",
       "      <th>movie_1</th>\n",
       "      <th>movie_2</th>\n",
       "      <th>movie_3</th>\n",
       "    </tr>\n",
       "    <tr>\n",
       "      <th>customer</th>\n",
       "      <th></th>\n",
       "      <th></th>\n",
       "      <th></th>\n",
       "    </tr>\n",
       "  </thead>\n",
       "  <tbody>\n",
       "    <tr>\n",
       "      <th>Ana</th>\n",
       "      <td>5</td>\n",
       "      <td>4</td>\n",
       "      <td>4</td>\n",
       "    </tr>\n",
       "    <tr>\n",
       "      <th>Bob</th>\n",
       "      <td>3</td>\n",
       "      <td>2</td>\n",
       "      <td>0</td>\n",
       "    </tr>\n",
       "  </tbody>\n",
       "</table>\n",
       "</div>"
      ],
      "text/plain": [
       "movie     movie_1  movie_2  movie_3\n",
       "customer                           \n",
       "Ana             5        4        4\n",
       "Bob             3        2        0"
      ]
     },
     "execution_count": 11,
     "metadata": {},
     "output_type": "execute_result"
    }
   ],
   "source": [
    "# Create a dataframe manually to illustrate the examples\n",
    "data=[['Ana','movie_1',5],['Ana', 'movie_2', 4],['Ana', 'movie_3', 4],['Bob','movie_1',3],['Bob', 'movie_2', 2]]\n",
    "ratings = pd.DataFrame(columns = [\"customer\", \"movie\", \"rating\"], data=data)\n",
    "ratings_matrix = ratings.pivot_table(index='customer', columns='movie', values='rating', fill_value=0)\n",
    "\n",
    "rating_1 = ratings_matrix.ix['Ana']\n",
    "rating_2 = ratings_matrix.ix['Bob']\n",
    "\n",
    "ratings_matrix"
   ]
  },
  {
   "cell_type": "code",
   "execution_count": 12,
   "metadata": {
    "collapsed": false
   },
   "outputs": [
    {
     "name": "stdout",
     "output_type": "stream",
     "text": [
      "similarity intersection:  2\n",
      "similarity cosine:  0.844926112126\n",
      "similarity pearson:  0.755928946018\n",
      "similarity jaccard:  0.6666666666666666\n"
     ]
    }
   ],
   "source": [
    "s_intersection =similarity.calculate_distance(rating_1, rating_2, 'intersection')\n",
    "s_cosine = similarity.calculate_distance(rating_1, rating_2, 'cosine')\n",
    "s_pearson = similarity.calculate_distance(rating_1, rating_2, 'pearson')\n",
    "s_jaccard = similarity.calculate_distance(rating_1, rating_2, 'jaccard')\n",
    "\n",
    "print(\"similarity intersection: \", s_intersection)\n",
    "print(\"similarity cosine: \", s_cosine)\n",
    "print(\"similarity pearson: \", s_pearson)\n",
    "print(\"similarity jaccard: \", s_jaccard)"
   ]
  }
 ],
 "metadata": {
  "kernelspec": {
   "display_name": "Python 3",
   "language": "python",
   "name": "python3"
  },
  "language_info": {
   "codemirror_mode": {
    "name": "ipython",
    "version": 3
   },
   "file_extension": ".py",
   "mimetype": "text/x-python",
   "name": "python",
   "nbconvert_exporter": "python",
   "pygments_lexer": "ipython3",
   "version": "3.5.3rc1"
  }
 },
 "nbformat": 4,
 "nbformat_minor": 0
}
